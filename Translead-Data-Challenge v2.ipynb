{
 "cells": [
  {
   "cell_type": "markdown",
   "metadata": {
    "slideshow": {
     "slide_type": "slide"
    }
   },
   "source": [
    "# Welcome to the Data Challenge\n",
    "\n",
    "## What is the goal of this workshop?\n",
    "\n",
    "Through this workshop, you will learn the ropes of the complete process that a Data Scientist goes through in order to transform data into valuable knowledge.\n",
    "\n",
    "### What data ?\n",
    "\n",
    "Your input data will be a file containing daily information for customers' ticketing. From this data, we will extract different groups of customers with different habits.\n",
    "\n",
    "### How ?\n",
    "\n",
    "With this goal in mind, you will perform the following steps :<br/><br/>\n",
    "1. Prepare the coding environment<br/>\n",
    "2. Load the data into this python script<br/>\n",
    "3. Prepare the data for future analysis<br/>\n",
    "4. Explore the data to gain some general insights about it<br/>\n",
    "5. Create useful features to characterize customers' habits<br/>\n",
    "6. Run a machine learning model : K-Means algorithm<br/>\n",
    "7. Find the optimal number of clusters<br/>"
   ]
  },
  {
   "cell_type": "markdown",
   "metadata": {
    "slideshow": {
     "slide_type": "slide"
    }
   },
   "source": [
    "## 1. Prepare the coding environment\n",
    "\n",
    "Through this workshop, we will use some tools called libraries that will help us in our workflow.<br/>\n",
    "<br />Libraries are powerful and efficient (fast) tools created by the python community that allow us to write very little code to perform complex actions. There are a lot of python libraries and we will only be using a few of them through this workshop :\n",
    "\n",
    "|Library &nbsp; &nbsp; &nbsp; &nbsp; &nbsp; &nbsp; &nbsp; &nbsp; &nbsp; &nbsp; &nbsp; &nbsp; &nbsp; &nbsp; &nbsp;&nbsp; &nbsp; &nbsp; &nbsp; &nbsp; &nbsp;|Description &nbsp; &nbsp; &nbsp; &nbsp; &nbsp; &nbsp; &nbsp; &nbsp; &nbsp; &nbsp; &nbsp; &nbsp; &nbsp; &nbsp; &nbsp;&nbsp; &nbsp; &nbsp; &nbsp; &nbsp; &nbsp;|Usual acronym inside code &nbsp; &nbsp; &nbsp; &nbsp; &nbsp; &nbsp; &nbsp; &nbsp; &nbsp; &nbsp; &nbsp; &nbsp; &nbsp; &nbsp; &nbsp;&nbsp; &nbsp; &nbsp; &nbsp; &nbsp; &nbsp;|\n",
    "|:--|:--|:--|\n",
    "|pandas|data manipulation and analysis library|pd|\n",
    "|scikit-learn|machine learning library|sk|\n",
    "|numpy|fast mathematical computation (used by pandas and many other libraries) library|np|\n",
    "|seaborn|data visualization library|sns|\n",
    "|matplotlib|plot library|plt|\n",
    "\n",
    "Now let's import those libraries."
   ]
  },
  {
   "cell_type": "code",
   "execution_count": 22,
   "metadata": {
    "slideshow": {
     "slide_type": "subslide"
    }
   },
   "outputs": [],
   "source": [
    "import pandas as pd\n",
    "import sklearn as sk\n",
    "import seaborn as sns\n",
    "import matplotlib.pyplot as plt\n",
    "import numpy as np"
   ]
  },
  {
   "cell_type": "markdown",
   "metadata": {
    "slideshow": {
     "slide_type": "slide"
    }
   },
   "source": [
    "---\n",
    "Our data is stored in Transdev's AWS servers ; we import the dataset from it."
   ]
  },
  {
   "cell_type": "code",
   "execution_count": 23,
   "metadata": {
    "slideshow": {
     "slide_type": "subslide"
    }
   },
   "outputs": [],
   "source": [
    "# import io\n",
    "# import requests\n",
    "# url=\"https://translead-atelier.s3-eu-west-1.amazonaws.com/dev/lieusaint-uniform.csv\"\n",
    "# s=requests.get(url).content"
   ]
  },
  {
   "cell_type": "markdown",
   "metadata": {},
   "source": [
    "## 2. Load the data"
   ]
  },
  {
   "cell_type": "markdown",
   "metadata": {},
   "source": [
    "---\n",
    "Let's use pandas read_csv built-in function to load the data."
   ]
  },
  {
   "cell_type": "code",
   "execution_count": 24,
   "metadata": {},
   "outputs": [],
   "source": [
    "# data=pd.read_csv(io.StringIO(s.decode('utf-8')), delimiter=\";\")\n",
    "data=pd.read_csv(\"Datasets/lieusaint-uniform.csv\", delimiter=\",\")"
   ]
  },
  {
   "cell_type": "markdown",
   "metadata": {},
   "source": [
    "**Note :** the _data_ object will be used throughout the whole notebook. It is our main data container. "
   ]
  },
  {
   "cell_type": "markdown",
   "metadata": {},
   "source": [
    "---\n",
    "Let's check what our data looks like."
   ]
  },
  {
   "cell_type": "code",
   "execution_count": 25,
   "metadata": {},
   "outputs": [
    {
     "data": {
      "text/html": [
       "<div>\n",
       "<style scoped>\n",
       "    .dataframe tbody tr th:only-of-type {\n",
       "        vertical-align: middle;\n",
       "    }\n",
       "\n",
       "    .dataframe tbody tr th {\n",
       "        vertical-align: top;\n",
       "    }\n",
       "\n",
       "    .dataframe thead th {\n",
       "        text-align: right;\n",
       "    }\n",
       "</style>\n",
       "<table border=\"1\" class=\"dataframe\">\n",
       "  <thead>\n",
       "    <tr style=\"text-align: right;\">\n",
       "      <th></th>\n",
       "      <th>customer_id</th>\n",
       "      <th>stop</th>\n",
       "      <th>date</th>\n",
       "      <th>tap_on_time</th>\n",
       "    </tr>\n",
       "  </thead>\n",
       "  <tbody>\n",
       "    <tr>\n",
       "      <th>0</th>\n",
       "      <td>368907000</td>\n",
       "      <td>11</td>\n",
       "      <td>06/05/2019</td>\n",
       "      <td>04:41:00</td>\n",
       "    </tr>\n",
       "    <tr>\n",
       "      <th>1</th>\n",
       "      <td>841076000</td>\n",
       "      <td>581</td>\n",
       "      <td>06/05/2019</td>\n",
       "      <td>04:52:00</td>\n",
       "    </tr>\n",
       "    <tr>\n",
       "      <th>2</th>\n",
       "      <td>53292600</td>\n",
       "      <td>9</td>\n",
       "      <td>06/05/2019</td>\n",
       "      <td>04:54:00</td>\n",
       "    </tr>\n",
       "    <tr>\n",
       "      <th>3</th>\n",
       "      <td>351837000</td>\n",
       "      <td>9</td>\n",
       "      <td>06/05/2019</td>\n",
       "      <td>04:54:00</td>\n",
       "    </tr>\n",
       "    <tr>\n",
       "      <th>4</th>\n",
       "      <td>857976000</td>\n",
       "      <td>9</td>\n",
       "      <td>06/05/2019</td>\n",
       "      <td>04:54:00</td>\n",
       "    </tr>\n",
       "    <tr>\n",
       "      <th>...</th>\n",
       "      <td>...</td>\n",
       "      <td>...</td>\n",
       "      <td>...</td>\n",
       "      <td>...</td>\n",
       "    </tr>\n",
       "    <tr>\n",
       "      <th>547967</th>\n",
       "      <td>242525000</td>\n",
       "      <td>2007</td>\n",
       "      <td>28/05/2019</td>\n",
       "      <td>18:07:00</td>\n",
       "    </tr>\n",
       "    <tr>\n",
       "      <th>547968</th>\n",
       "      <td>268664000</td>\n",
       "      <td>2007</td>\n",
       "      <td>28/05/2019</td>\n",
       "      <td>18:07:00</td>\n",
       "    </tr>\n",
       "    <tr>\n",
       "      <th>547969</th>\n",
       "      <td>452026000</td>\n",
       "      <td>2007</td>\n",
       "      <td>28/05/2019</td>\n",
       "      <td>18:07:00</td>\n",
       "    </tr>\n",
       "    <tr>\n",
       "      <th>547970</th>\n",
       "      <td>539087000</td>\n",
       "      <td>2007</td>\n",
       "      <td>28/05/2019</td>\n",
       "      <td>18:07:00</td>\n",
       "    </tr>\n",
       "    <tr>\n",
       "      <th>547971</th>\n",
       "      <td>629417000</td>\n",
       "      <td>2007</td>\n",
       "      <td>28/05/2019</td>\n",
       "      <td>18:07:00</td>\n",
       "    </tr>\n",
       "  </tbody>\n",
       "</table>\n",
       "<p>547972 rows × 4 columns</p>\n",
       "</div>"
      ],
      "text/plain": [
       "       customer_id  stop        date tap_on_time\n",
       "0        368907000    11  06/05/2019    04:41:00\n",
       "1        841076000   581  06/05/2019    04:52:00\n",
       "2         53292600     9  06/05/2019    04:54:00\n",
       "3        351837000     9  06/05/2019    04:54:00\n",
       "4        857976000     9  06/05/2019    04:54:00\n",
       "...            ...   ...         ...         ...\n",
       "547967   242525000  2007  28/05/2019    18:07:00\n",
       "547968   268664000  2007  28/05/2019    18:07:00\n",
       "547969   452026000  2007  28/05/2019    18:07:00\n",
       "547970   539087000  2007  28/05/2019    18:07:00\n",
       "547971   629417000  2007  28/05/2019    18:07:00\n",
       "\n",
       "[547972 rows x 4 columns]"
      ]
     },
     "execution_count": 25,
     "metadata": {},
     "output_type": "execute_result"
    }
   ],
   "source": [
    "data"
   ]
  },
  {
   "cell_type": "markdown",
   "metadata": {},
   "source": [
    "We have four columns :\n",
    ">\n",
    ">- customer_id is the id of the customer\n",
    ">- stop corresponds to the id of the stop where the user started his journey\n",
    ">- date is the day where the customer took the transport\n",
    ">- tap_on_time is the time where the customer took the transport"
   ]
  },
  {
   "cell_type": "markdown",
   "metadata": {},
   "source": [
    "## 3. Prepare the data for future analysis\n",
    "---\n",
    "<img style=\"float: right;\" src=\"dropdown_excel.png\">\n",
    "\n",
    "\n",
    "<br/>Like with any dataset, every column corresponds to a certain type of object. We, humans, understand directly what the type of an object should be :\n",
    "- 16/01/1997 is a date\n",
    "- \"hello world\" is text\n",
    "- 56°C is a measure of temperature\n",
    "\n",
    "However, pandas (the library that we use to load the data) doesn't always correctly recognize the type of our columns. Therefore we might need to specify manually the type of columns to pandas : it's exactly the same thing as on excel software when we use the drop down menu (see image beside this text).\n",
    "\n",
    "Let's check the current type of our columns !"
   ]
  },
  {
   "cell_type": "code",
   "execution_count": 26,
   "metadata": {},
   "outputs": [
    {
     "name": "stdout",
     "output_type": "stream",
     "text": [
      "<class 'pandas.core.frame.DataFrame'>\n",
      "RangeIndex: 547972 entries, 0 to 547971\n",
      "Data columns (total 4 columns):\n",
      " #   Column       Non-Null Count   Dtype \n",
      "---  ------       --------------   ----- \n",
      " 0   customer_id  547972 non-null  object\n",
      " 1   stop         547972 non-null  int64 \n",
      " 2   date         547972 non-null  object\n",
      " 3   tap_on_time  547972 non-null  object\n",
      "dtypes: int64(1), object(3)\n",
      "memory usage: 16.7+ MB\n"
     ]
    }
   ],
   "source": [
    "data.info()"
   ]
  },
  {
   "cell_type": "markdown",
   "metadata": {},
   "source": [
    "Pandas didn't recognized our data types correctly.<br/><br/>\n",
    "\n",
    "As a result, we will convert our columns to the following data types :\n",
    "- _customer_id_ : a _customer_id_ is a categorical data rather than numeric so we will convert it to a category object.\n",
    "- line : category object\n",
    "- stop : category object\n",
    "- date : a specific type exists for dates, which is called datetime. We will use datetime for our dates' column.\n",
    "- time : a specific type exists for times, which is called timedelta. We will use timedelta for our times' column.\n",
    "\n",
    "Let's make these changes."
   ]
  },
  {
   "cell_type": "code",
   "execution_count": 27,
   "metadata": {},
   "outputs": [],
   "source": [
    "data[\"customer_id\"] = data[\"customer_id\"].astype(\"category\")\n",
    "# data[\"line\"] = data[\"line\"].astype(\"category\")\n",
    "data[\"stop\"] = data[\"stop\"].astype(\"category\")\n",
    "data[\"date\"] = pd.to_datetime(data[\"date\"], format=\"%d/%m/%Y\")\n",
    "data[\"tap_on_time\"] = pd.to_timedelta(data[\"tap_on_time\"])"
   ]
  },
  {
   "cell_type": "markdown",
   "metadata": {},
   "source": [
    "---\n",
    "Let's check if our changes appear correctly."
   ]
  },
  {
   "cell_type": "code",
   "execution_count": 28,
   "metadata": {},
   "outputs": [
    {
     "name": "stdout",
     "output_type": "stream",
     "text": [
      "<class 'pandas.core.frame.DataFrame'>\n",
      "RangeIndex: 547972 entries, 0 to 547971\n",
      "Data columns (total 4 columns):\n",
      " #   Column       Non-Null Count   Dtype          \n",
      "---  ------       --------------   -----          \n",
      " 0   customer_id  547972 non-null  category       \n",
      " 1   stop         547972 non-null  category       \n",
      " 2   date         547972 non-null  datetime64[ns] \n",
      " 3   tap_on_time  547972 non-null  timedelta64[ns]\n",
      "dtypes: category(2), datetime64[ns](1), timedelta64[ns](1)\n",
      "memory usage: 13.1 MB\n"
     ]
    }
   ],
   "source": [
    "data.info()"
   ]
  },
  {
   "cell_type": "markdown",
   "metadata": {},
   "source": [
    "Thanks to our careful definition of what each column type should be, we will have a cleaner workflow in future steps."
   ]
  },
  {
   "cell_type": "markdown",
   "metadata": {},
   "source": [
    "---\n",
    "## 4. Explore the data"
   ]
  },
  {
   "cell_type": "markdown",
   "metadata": {},
   "source": [
    "### Some statistical indexes"
   ]
  },
  {
   "cell_type": "markdown",
   "metadata": {},
   "source": [
    "Now we'll use the built-in function _describe_ (from pandas library) that gives general insights on our data.<br/><br/>\n",
    "For categorical data and datetimes, _describe_ gives those information :\n",
    ">- count : total number of non-empty values\n",
    ">- unique : number of different values\n",
    ">- top : value that appears the most\n",
    ">- freq : number of times that the \"top\" value appears\n",
    ">- _(only datetimes)_ first : smallest value\n",
    ">- _(only datetimes)_ last : biggest value\n",
    "\n",
    "For numerical data and timedeltas, _describe_ gives those information :\n",
    ">- count : total number of non-empty values\n",
    ">- mean\n",
    ">- std : standard deviation\n",
    ">- min : minimum value\n",
    ">- 25% : first quartile\n",
    ">- 50% : median\n",
    ">- 75% : 3rd quartile\n",
    ">- max : maximum value"
   ]
  },
  {
   "cell_type": "markdown",
   "metadata": {},
   "source": [
    "---\n",
    "Let's get insights about our customer_id column."
   ]
  },
  {
   "cell_type": "code",
   "execution_count": 29,
   "metadata": {
    "scrolled": true
   },
   "outputs": [
    {
     "data": {
      "text/plain": [
       "count       547972\n",
       "unique       49569\n",
       "top       63198600\n",
       "freq           165\n",
       "Name: customer_id, dtype: object"
      ]
     },
     "execution_count": 29,
     "metadata": {},
     "output_type": "execute_result"
    }
   ],
   "source": [
    "data[\"customer_id\"].describe()"
   ]
  },
  {
   "cell_type": "markdown",
   "metadata": {},
   "source": [
    "---\n",
    "Let's get insights about our stop column."
   ]
  },
  {
   "cell_type": "code",
   "execution_count": 30,
   "metadata": {
    "scrolled": false
   },
   "outputs": [
    {
     "data": {
      "text/plain": [
       "count     547972\n",
       "unique       574\n",
       "top         2000\n",
       "freq       33088\n",
       "Name: stop, dtype: int64"
      ]
     },
     "execution_count": 30,
     "metadata": {},
     "output_type": "execute_result"
    }
   ],
   "source": [
    "data[\"stop\"].describe()"
   ]
  },
  {
   "cell_type": "markdown",
   "metadata": {},
   "source": [
    "---\n",
    "Let's get insights about our date column."
   ]
  },
  {
   "cell_type": "code",
   "execution_count": 31,
   "metadata": {},
   "outputs": [
    {
     "data": {
      "text/plain": [
       "count                  547972\n",
       "unique                     23\n",
       "top       2019-05-14 00:00:00\n",
       "freq                    31890\n",
       "first     2019-05-06 00:00:00\n",
       "last      2019-05-28 00:00:00\n",
       "Name: date, dtype: object"
      ]
     },
     "execution_count": 31,
     "metadata": {},
     "output_type": "execute_result"
    }
   ],
   "source": [
    "data[\"date\"].describe()"
   ]
  },
  {
   "cell_type": "markdown",
   "metadata": {},
   "source": [
    "---\n",
    "Let's get insights about our tap_on_time column."
   ]
  },
  {
   "cell_type": "code",
   "execution_count": 32,
   "metadata": {},
   "outputs": [
    {
     "data": {
      "text/plain": [
       "count                    547972\n",
       "mean     0 days 13:10:22.430197\n",
       "std      0 days 04:43:55.240572\n",
       "min             0 days 00:00:00\n",
       "25%             0 days 08:22:00\n",
       "50%             0 days 13:43:00\n",
       "75%             0 days 17:19:00\n",
       "max             0 days 23:59:00\n",
       "Name: tap_on_time, dtype: object"
      ]
     },
     "execution_count": 32,
     "metadata": {},
     "output_type": "execute_result"
    }
   ],
   "source": [
    "data[\"tap_on_time\"].describe()"
   ]
  },
  {
   "cell_type": "markdown",
   "metadata": {},
   "source": [
    "Time isn't categorical, so _describe_ gives insights about mean, standard deviation, min value, max value, and quartiles."
   ]
  },
  {
   "cell_type": "markdown",
   "metadata": {},
   "source": [
    "### Some graphical insights"
   ]
  },
  {
   "cell_type": "markdown",
   "metadata": {},
   "source": [
    "In our data, one row matches a single trip. As a result, plotting distributions requires few steps :\n",
    "- group the rows per a criteria we are interested in\n",
    "- count/sum/average (any operation) in each group\n",
    "- plot the result"
   ]
  },
  {
   "cell_type": "markdown",
   "metadata": {},
   "source": [
    "---\n",
    "#### What is the number of customers per number of trips ?"
   ]
  },
  {
   "cell_type": "code",
   "execution_count": 33,
   "metadata": {
    "scrolled": true
   },
   "outputs": [
    {
     "data": {
      "text/plain": [
       "<matplotlib.axes._subplots.AxesSubplot at 0x27dd991b9d0>"
      ]
     },
     "execution_count": 33,
     "metadata": {},
     "output_type": "execute_result"
    },
    {
     "data": {
      "image/png": "[encoded data removed]",
      "text/plain": [
       "<Figure size 1440x432 with 1 Axes>"
      ]
     },
     "metadata": {
      "needs_background": "light"
     },
     "output_type": "display_data"
    }
   ],
   "source": [
    "plt.figure(figsize=(20,6))\n",
    "num_trips_per_customer = data[\"customer_id\"].groupby(data[\"customer_id\"]).count()\n",
    "monotone_trips = num_trips_per_customer.groupby(num_trips_per_customer.values).count()\n",
    "monotone_trips.plot(kind=\"bar\")"
   ]
  },
  {
   "cell_type": "markdown",
   "metadata": {},
   "source": [
    "Percentage values : "
   ]
  },
  {
   "cell_type": "code",
   "execution_count": 34,
   "metadata": {
    "scrolled": false
   },
   "outputs": [
    {
     "data": {
      "text/plain": [
       "1     19.395187\n",
       "2     16.518389\n",
       "3      6.679578\n",
       "4      5.549840\n",
       "5      3.621215\n",
       "6      3.310537\n",
       "7      2.731546\n",
       "8      2.523755\n",
       "9      2.110190\n",
       "10     2.087999\n",
       "11     1.847929\n",
       "12     1.956868\n",
       "13     1.858016\n",
       "14     1.670399\n",
       "15     1.676451\n",
       "16     1.545321\n",
       "17     1.331477\n",
       "18     1.422260\n",
       "19     1.337530\n",
       "20     1.319373\n",
       "Name: customer_id, dtype: float64"
      ]
     },
     "execution_count": 34,
     "metadata": {},
     "output_type": "execute_result"
    }
   ],
   "source": [
    "(monotone_trips / data[\"customer_id\"].nunique() * 100).head(20)"
   ]
  },
  {
   "cell_type": "markdown",
   "metadata": {},
   "source": [
    "---\n",
    "#### What is the number of customers per number of origins ?"
   ]
  },
  {
   "cell_type": "code",
   "execution_count": 35,
   "metadata": {
    "scrolled": true
   },
   "outputs": [
    {
     "data": {
      "text/plain": [
       "<matplotlib.axes._subplots.AxesSubplot at 0x27dd49ba3a0>"
      ]
     },
     "execution_count": 35,
     "metadata": {},
     "output_type": "execute_result"
    },
    {
     "data": {
      "image/png": "[encoded data removed]",
      "text/plain": [
       "<Figure size 1440x432 with 1 Axes>"
      ]
     },
     "metadata": {
      "needs_background": "light"
     },
     "output_type": "display_data"
    }
   ],
   "source": [
    "plt.figure(figsize=(20,6))\n",
    "num_origins_per_customer = data[\"stop\"].groupby(data[\"customer_id\"]).nunique()\n",
    "num_customers_per_origin = num_origins_per_customer.groupby(num_origins_per_customer.values).count()\n",
    "num_customers_per_origin.plot(kind=\"bar\")"
   ]
  },
  {
   "cell_type": "markdown",
   "metadata": {},
   "source": [
    "Percentage values : "
   ]
  },
  {
   "cell_type": "code",
   "execution_count": 36,
   "metadata": {
    "scrolled": false
   },
   "outputs": [
    {
     "data": {
      "text/plain": [
       "1     22.69\n",
       "2     23.05\n",
       "3     11.90\n",
       "4      9.06\n",
       "5      6.80\n",
       "6      5.41\n",
       "7      4.30\n",
       "8      3.43\n",
       "9      2.67\n",
       "10     2.17\n",
       "11     1.66\n",
       "12     1.40\n",
       "13     1.08\n",
       "14     0.91\n",
       "15     0.79\n",
       "16     0.54\n",
       "17     0.45\n",
       "18     0.34\n",
       "19     0.28\n",
       "20     0.22\n",
       "Name: stop, dtype: float64"
      ]
     },
     "execution_count": 36,
     "metadata": {},
     "output_type": "execute_result"
    }
   ],
   "source": [
    "(num_customers_per_origin / num_customers_per_origin.sum() * 100).round(2).head(20)"
   ]
  },
  {
   "cell_type": "markdown",
   "metadata": {},
   "source": [
    "---\n",
    "#### What is the distribution of trips across time ?"
   ]
  },
  {
   "cell_type": "code",
   "execution_count": 37,
   "metadata": {
    "scrolled": false
   },
   "outputs": [
    {
     "data": {
      "text/plain": [
       "<matplotlib.axes._subplots.AxesSubplot at 0x27dd4900a30>"
      ]
     },
     "execution_count": 37,
     "metadata": {},
     "output_type": "execute_result"
    },
    {
     "data": {
      "image/png": "[encoded data removed]",
      "text/plain": [
       "<Figure size 720x432 with 1 Axes>"
      ]
     },
     "metadata": {
      "needs_background": "light"
     },
     "output_type": "display_data"
    }
   ],
   "source": [
    "plt.figure(figsize=(10,6))\n",
    "commutes_per_hour = data[\"tap_on_time\"].groupby(data[\"tap_on_time\"].dt.components['hours']).count()\n",
    "commutes_per_hour.plot(kind=\"bar\")"
   ]
  },
  {
   "cell_type": "markdown",
   "metadata": {},
   "source": [
    "**Percentage values :**"
   ]
  },
  {
   "cell_type": "code",
   "execution_count": 38,
   "metadata": {},
   "outputs": [
    {
     "data": {
      "text/plain": [
       "hours\n",
       "0      0.04\n",
       "1      0.02\n",
       "2      0.02\n",
       "3      0.03\n",
       "4      0.92\n",
       "5      2.86\n",
       "6      5.47\n",
       "7     11.83\n",
       "8      8.56\n",
       "9      4.26\n",
       "10     3.89\n",
       "11     3.71\n",
       "12     4.29\n",
       "13     5.49\n",
       "14     5.68\n",
       "15     6.30\n",
       "16     8.38\n",
       "17    10.04\n",
       "18     7.82\n",
       "19     5.19\n",
       "20     2.96\n",
       "21     1.52\n",
       "22     0.58\n",
       "23     0.18\n",
       "Name: tap_on_time, dtype: float64"
      ]
     },
     "execution_count": 38,
     "metadata": {},
     "output_type": "execute_result"
    }
   ],
   "source": [
    "(commutes_per_hour / commutes_per_hour.sum() * 100).round(2).head(24) "
   ]
  },
  {
   "cell_type": "markdown",
   "metadata": {},
   "source": [
    "**Peak hour trips percentage :**"
   ]
  },
  {
   "cell_type": "code",
   "execution_count": 39,
   "metadata": {},
   "outputs": [
    {
     "data": {
      "text/plain": [
       "51.81"
      ]
     },
     "execution_count": 39,
     "metadata": {},
     "output_type": "execute_result"
    }
   ],
   "source": [
    "(commutes_per_hour[[7,8,16,17,18,19]].sum() / commutes_per_hour.sum() * 100).round(2)"
   ]
  },
  {
   "cell_type": "markdown",
   "metadata": {},
   "source": [
    "---\n",
    "#### How are trips distributed among different stops ?"
   ]
  },
  {
   "cell_type": "code",
   "execution_count": 40,
   "metadata": {},
   "outputs": [
    {
     "data": {
      "text/plain": [
       "Text(0, 0.5, 'number of trips')"
      ]
     },
     "execution_count": 40,
     "metadata": {},
     "output_type": "execute_result"
    },
    {
     "data": {
      "image/png": "[encoded data removed]",
      "text/plain": [
       "<Figure size 720x432 with 1 Axes>"
      ]
     },
     "metadata": {
      "needs_background": "light"
     },
     "output_type": "display_data"
    }
   ],
   "source": [
    "plt.figure(figsize=(10,6))\n",
    "trips_per_stop = data[\"stop\"].groupby(data[\"stop\"]).count()\n",
    "stops_plot = trips_per_stop.plot(kind=\"bar\")\n",
    "stops_plot.axes.get_xaxis().set_visible(False)  # MAKES THE X AXIS INVISIBLE\n",
    "plt.ylabel(\"number of trips\")  # ADDS A LABEL TO OUR Y AXIS"
   ]
  },
  {
   "cell_type": "markdown",
   "metadata": {},
   "source": [
    "**Percentage values :**"
   ]
  },
  {
   "cell_type": "code",
   "execution_count": 41,
   "metadata": {},
   "outputs": [
    {
     "data": {
      "text/plain": [
       "stop\n",
       "2000    6.04\n",
       "2027    3.83\n",
       "2009    2.70\n",
       "70      2.20\n",
       "2       2.17\n",
       "591     2.13\n",
       "1       1.92\n",
       "75      1.87\n",
       "3       1.83\n",
       "73      1.78\n",
       "65      1.72\n",
       "9055    1.64\n",
       "414     1.61\n",
       "71      1.61\n",
       "69      1.52\n",
       "2008    1.30\n",
       "5       1.12\n",
       "172     1.10\n",
       "2017    1.09\n",
       "376     1.08\n",
       "Name: stop, dtype: float64"
      ]
     },
     "execution_count": 41,
     "metadata": {},
     "output_type": "execute_result"
    }
   ],
   "source": [
    "(trips_per_stop / trips_per_stop.sum() * 100).round(2).sort_values(ascending=False).head(20)"
   ]
  },
  {
   "cell_type": "markdown",
   "metadata": {},
   "source": [
    "#### How are trips distributed along the days of the week ?"
   ]
  },
  {
   "cell_type": "markdown",
   "metadata": {},
   "source": [
    "This plot is a little bit more tricky than the previous examples for two reasons :\n",
    "- we don't have a column that stores which day of the week corresponds to the date.\n",
    "- we have 23 days of data. 23/7 = 3 weeks + 2 days. For two certain days of the week, we will have more data than for others. We will need to take that into account."
   ]
  },
  {
   "cell_type": "code",
   "execution_count": 42,
   "metadata": {},
   "outputs": [
    {
     "data": {
      "text/plain": [
       "<matplotlib.axes._subplots.AxesSubplot at 0x27dda28cfa0>"
      ]
     },
     "execution_count": 42,
     "metadata": {},
     "output_type": "execute_result"
    },
    {
     "data": {
      "image/png": "[encoded data removed]",
      "text/plain": [
       "<Figure size 720x432 with 1 Axes>"
      ]
     },
     "metadata": {
      "needs_background": "light"
     },
     "output_type": "display_data"
    }
   ],
   "source": [
    "plt.figure(figsize=(10,6))\n",
    "data['day_of_week'] = pd.Categorical(data['date'].dt.day_name(), categories=[\n",
    "                                     'Monday', 'Tuesday', 'Wednesday', 'Thursday', 'Friday', 'Saturday', 'Sunday'],\n",
    "                                     ordered=True)\n",
    "grouped_data_per_date = data[[\"day_of_week\"]].groupby(data[\"date\"]).first()\n",
    "grouped_data_per_date[\"trips_count\"] = data[\"day_of_week\"].groupby(data[\"date\"]).count()\n",
    "mean_trips_per_day = grouped_data_per_date[\"trips_count\"].groupby(grouped_data_per_date[\"day_of_week\"]).mean()\n",
    "mean_trips_per_day.plot(kind=\"bar\")"
   ]
  },
  {
   "cell_type": "markdown",
   "metadata": {},
   "source": [
    "**Percentage values :** "
   ]
  },
  {
   "cell_type": "code",
   "execution_count": 43,
   "metadata": {},
   "outputs": [
    {
     "data": {
      "text/plain": [
       "day_of_week\n",
       "Monday       18.35\n",
       "Tuesday      19.29\n",
       "Wednesday    13.61\n",
       "Thursday     18.80\n",
       "Friday       19.01\n",
       "Saturday      8.04\n",
       "Sunday        2.89\n",
       "Name: trips_count, dtype: float64"
      ]
     },
     "execution_count": 43,
     "metadata": {},
     "output_type": "execute_result"
    }
   ],
   "source": [
    "(mean_trips_per_day / mean_trips_per_day.sum() * 100).round(2).head(7)"
   ]
  },
  {
   "cell_type": "markdown",
   "metadata": {},
   "source": [
    "**Weekday trips percentage :**"
   ]
  },
  {
   "cell_type": "code",
   "execution_count": 44,
   "metadata": {},
   "outputs": [
    {
     "data": {
      "text/plain": [
       "89.07"
      ]
     },
     "execution_count": 44,
     "metadata": {},
     "output_type": "execute_result"
    }
   ],
   "source": [
    "(mean_trips_per_day[['Monday', 'Tuesday', 'Wednesday', 'Thursday', 'Friday']].sum() / mean_trips_per_day.sum() * 100).round(2)"
   ]
  },
  {
   "cell_type": "markdown",
   "metadata": {},
   "source": [
    "## 5. Create useful features to characterize customers' habits"
   ]
  },
  {
   "attachments": {
    "image.png": {
     "image/png": "[encoded data removed]"
    }
   },
   "cell_type": "markdown",
   "metadata": {},
   "source": [
    "Now let's dive into the final goal of this workshop : identifying different groups of customers thanks to a clustering algorithm, K-Means. First let's get an intuition of how K-Means work.\n",
    "\n",
    "![image.png](attachment:image.png)\n"
   ]
  },
  {
   "cell_type": "markdown",
   "metadata": {},
   "source": [
    "K-Means performs the following steps :\n",
    "\n",
    " **a)** \n",
    "- We have some data points in 2D plane. They all have x and y coordinates.\n",
    "\n",
    "**b)** \n",
    "- We take K = 2 (it's the K from K-Means), which means we will have 2 clusters (2 groups), at the end of the algorithm. \n",
    "- Since we chose K = 2, we place 2 random points in our 2D plane : a red cross and a blue cross. These 2 points are called **centroids**.\n",
    "\n",
    "**c)** \n",
    "- We associate each **data point** to the **closest centroid**. Data points closest to the red cross are marked as red points, and data points closest to the blue cross are marked as blue points.\n",
    "\n",
    "**d)**\n",
    "- We calculate **new positions for our centroids**. The **new red centroid** will be the **center of the red points** and the **new blue centroid** will be the **center of the blue points**.\n",
    "\n",
    "**e)**\n",
    "- We **repeat step c)**. We associate each data point to the closest centroid. **Some points will remain the same color, but others will change** of color because they are now closer to the cross of the other color.\n",
    "**f)**\n",
    "- We **repeat step d)**. We calculate new positions for our centroids again.\n",
    "\n",
    "etc. etc.\n",
    "\n",
    "We stop this process when the centroids' positions don't change anymore : it means we reached convergence."
   ]
  },
  {
   "cell_type": "markdown",
   "metadata": {},
   "source": [
    "---\n",
    "### How do we apply K-Means clustering to our data ?\n",
    "In the previous K-Means drawings, two different groups are clearly identifiable : this means that the x and y axis are **useful, meaningful features** to distinguish a red point from a blue point.\n",
    "\n",
    "#### In our case, we want to cluster public transportation customers : what features could be useful and meaningful to distinguish a customer from another ?\n",
    "\n",
    "In the clustering that you will perform, the data team chose the following criteria to discriminate customers. For each customer, we will use :\n",
    "- ratio between his trips on weekdays and his total trips\n",
    "- ratio between his trips in peak hours and his weekdays trips\n",
    "- number of different stops where he validated \n",
    "- his number of trips\n",
    "- his trip frequency\n",
    "\n",
    "We don't have those indicators in our data ; therefore we need to **build them from the original data we have**."
   ]
  },
  {
   "cell_type": "markdown",
   "metadata": {},
   "source": [
    "#### Add new booleans (0 or 1) columns to our original _data_ object"
   ]
  },
  {
   "cell_type": "code",
   "execution_count": 45,
   "metadata": {
    "scrolled": true
   },
   "outputs": [],
   "source": [
    "def is_weekday(day):\n",
    "    if day in ['Monday', 'Tuesday', 'Wednesday', 'Thursday', 'Friday']:\n",
    "        return 1\n",
    "    else:\n",
    "        return 0\n",
    "\n",
    "\n",
    "data[\"is_weekday\"] = data[\"day_of_week\"].apply(lambda day: is_weekday(day))\n",
    "\n",
    "def is_peak_hour(row):\n",
    "    tap_on_time = row[\"tap_on_time\"].components.hours\n",
    "    is_weekday_bool = row[\"is_weekday\"]\n",
    "    if is_weekday_bool == 1:\n",
    "        if 7 <= tap_on_time <= 8 or 16 <= tap_on_time <= 19:\n",
    "            return 1\n",
    "        else:\n",
    "            return 0\n",
    "    else:\n",
    "        return 0\n",
    "\n",
    "data[\"is_peak_hour\"] = data[[\"tap_on_time\", \"is_weekday\"]].apply(\n",
    "    lambda row: is_peak_hour(row), axis=1)"
   ]
  },
  {
   "cell_type": "code",
   "execution_count": 46,
   "metadata": {},
   "outputs": [
    {
     "data": {
      "text/html": [
       "<div>\n",
       "<style scoped>\n",
       "    .dataframe tbody tr th:only-of-type {\n",
       "        vertical-align: middle;\n",
       "    }\n",
       "\n",
       "    .dataframe tbody tr th {\n",
       "        vertical-align: top;\n",
       "    }\n",
       "\n",
       "    .dataframe thead th {\n",
       "        text-align: right;\n",
       "    }\n",
       "</style>\n",
       "<table border=\"1\" class=\"dataframe\">\n",
       "  <thead>\n",
       "    <tr style=\"text-align: right;\">\n",
       "      <th></th>\n",
       "      <th>customer_id</th>\n",
       "      <th>stop</th>\n",
       "      <th>date</th>\n",
       "      <th>tap_on_time</th>\n",
       "      <th>day_of_week</th>\n",
       "      <th>is_weekday</th>\n",
       "      <th>is_peak_hour</th>\n",
       "    </tr>\n",
       "  </thead>\n",
       "  <tbody>\n",
       "    <tr>\n",
       "      <th>0</th>\n",
       "      <td>368907000</td>\n",
       "      <td>11</td>\n",
       "      <td>2019-05-06</td>\n",
       "      <td>04:41:00</td>\n",
       "      <td>Monday</td>\n",
       "      <td>1</td>\n",
       "      <td>0</td>\n",
       "    </tr>\n",
       "    <tr>\n",
       "      <th>1</th>\n",
       "      <td>841076000</td>\n",
       "      <td>581</td>\n",
       "      <td>2019-05-06</td>\n",
       "      <td>04:52:00</td>\n",
       "      <td>Monday</td>\n",
       "      <td>1</td>\n",
       "      <td>0</td>\n",
       "    </tr>\n",
       "    <tr>\n",
       "      <th>2</th>\n",
       "      <td>53292600</td>\n",
       "      <td>9</td>\n",
       "      <td>2019-05-06</td>\n",
       "      <td>04:54:00</td>\n",
       "      <td>Monday</td>\n",
       "      <td>1</td>\n",
       "      <td>0</td>\n",
       "    </tr>\n",
       "    <tr>\n",
       "      <th>3</th>\n",
       "      <td>351837000</td>\n",
       "      <td>9</td>\n",
       "      <td>2019-05-06</td>\n",
       "      <td>04:54:00</td>\n",
       "      <td>Monday</td>\n",
       "      <td>1</td>\n",
       "      <td>0</td>\n",
       "    </tr>\n",
       "    <tr>\n",
       "      <th>4</th>\n",
       "      <td>857976000</td>\n",
       "      <td>9</td>\n",
       "      <td>2019-05-06</td>\n",
       "      <td>04:54:00</td>\n",
       "      <td>Monday</td>\n",
       "      <td>1</td>\n",
       "      <td>0</td>\n",
       "    </tr>\n",
       "    <tr>\n",
       "      <th>...</th>\n",
       "      <td>...</td>\n",
       "      <td>...</td>\n",
       "      <td>...</td>\n",
       "      <td>...</td>\n",
       "      <td>...</td>\n",
       "      <td>...</td>\n",
       "      <td>...</td>\n",
       "    </tr>\n",
       "    <tr>\n",
       "      <th>547967</th>\n",
       "      <td>242525000</td>\n",
       "      <td>2007</td>\n",
       "      <td>2019-05-28</td>\n",
       "      <td>18:07:00</td>\n",
       "      <td>Tuesday</td>\n",
       "      <td>1</td>\n",
       "      <td>1</td>\n",
       "    </tr>\n",
       "    <tr>\n",
       "      <th>547968</th>\n",
       "      <td>268664000</td>\n",
       "      <td>2007</td>\n",
       "      <td>2019-05-28</td>\n",
       "      <td>18:07:00</td>\n",
       "      <td>Tuesday</td>\n",
       "      <td>1</td>\n",
       "      <td>1</td>\n",
       "    </tr>\n",
       "    <tr>\n",
       "      <th>547969</th>\n",
       "      <td>452026000</td>\n",
       "      <td>2007</td>\n",
       "      <td>2019-05-28</td>\n",
       "      <td>18:07:00</td>\n",
       "      <td>Tuesday</td>\n",
       "      <td>1</td>\n",
       "      <td>1</td>\n",
       "    </tr>\n",
       "    <tr>\n",
       "      <th>547970</th>\n",
       "      <td>539087000</td>\n",
       "      <td>2007</td>\n",
       "      <td>2019-05-28</td>\n",
       "      <td>18:07:00</td>\n",
       "      <td>Tuesday</td>\n",
       "      <td>1</td>\n",
       "      <td>1</td>\n",
       "    </tr>\n",
       "    <tr>\n",
       "      <th>547971</th>\n",
       "      <td>629417000</td>\n",
       "      <td>2007</td>\n",
       "      <td>2019-05-28</td>\n",
       "      <td>18:07:00</td>\n",
       "      <td>Tuesday</td>\n",
       "      <td>1</td>\n",
       "      <td>1</td>\n",
       "    </tr>\n",
       "  </tbody>\n",
       "</table>\n",
       "<p>547972 rows × 7 columns</p>\n",
       "</div>"
      ],
      "text/plain": [
       "       customer_id  stop       date tap_on_time day_of_week  is_weekday  \\\n",
       "0        368907000    11 2019-05-06    04:41:00      Monday           1   \n",
       "1        841076000   581 2019-05-06    04:52:00      Monday           1   \n",
       "2         53292600     9 2019-05-06    04:54:00      Monday           1   \n",
       "3        351837000     9 2019-05-06    04:54:00      Monday           1   \n",
       "4        857976000     9 2019-05-06    04:54:00      Monday           1   \n",
       "...            ...   ...        ...         ...         ...         ...   \n",
       "547967   242525000  2007 2019-05-28    18:07:00     Tuesday           1   \n",
       "547968   268664000  2007 2019-05-28    18:07:00     Tuesday           1   \n",
       "547969   452026000  2007 2019-05-28    18:07:00     Tuesday           1   \n",
       "547970   539087000  2007 2019-05-28    18:07:00     Tuesday           1   \n",
       "547971   629417000  2007 2019-05-28    18:07:00     Tuesday           1   \n",
       "\n",
       "        is_peak_hour  \n",
       "0                  0  \n",
       "1                  0  \n",
       "2                  0  \n",
       "3                  0  \n",
       "4                  0  \n",
       "...              ...  \n",
       "547967             1  \n",
       "547968             1  \n",
       "547969             1  \n",
       "547970             1  \n",
       "547971             1  \n",
       "\n",
       "[547972 rows x 7 columns]"
      ]
     },
     "execution_count": 46,
     "metadata": {},
     "output_type": "execute_result"
    }
   ],
   "source": [
    "data"
   ]
  },
  {
   "cell_type": "markdown",
   "metadata": {},
   "source": [
    "#### Create a dataframe where we will store data for each customer\n",
    "---\n",
    "Let's create a new dataframe called _customer_data_ to store data relative to each customer. This dataframe contains 1 row per customer in the original data."
   ]
  },
  {
   "cell_type": "code",
   "execution_count": 47,
   "metadata": {},
   "outputs": [
    {
     "data": {
      "text/html": [
       "<div>\n",
       "<style scoped>\n",
       "    .dataframe tbody tr th:only-of-type {\n",
       "        vertical-align: middle;\n",
       "    }\n",
       "\n",
       "    .dataframe tbody tr th {\n",
       "        vertical-align: top;\n",
       "    }\n",
       "\n",
       "    .dataframe thead th {\n",
       "        text-align: right;\n",
       "    }\n",
       "</style>\n",
       "<table border=\"1\" class=\"dataframe\">\n",
       "  <thead>\n",
       "    <tr style=\"text-align: right;\">\n",
       "      <th></th>\n",
       "      <th>customer_id</th>\n",
       "      <th>weekday_ratio</th>\n",
       "      <th>peak_hour_ratio</th>\n",
       "      <th>unique_stops</th>\n",
       "      <th>num_trips</th>\n",
       "      <th>days_travelled_ratio</th>\n",
       "    </tr>\n",
       "  </thead>\n",
       "  <tbody>\n",
       "    <tr>\n",
       "      <th>0</th>\n",
       "      <td>368907000</td>\n",
       "      <td>0.827586</td>\n",
       "      <td>0.500000</td>\n",
       "      <td>8</td>\n",
       "      <td>29</td>\n",
       "      <td>0.652174</td>\n",
       "    </tr>\n",
       "    <tr>\n",
       "      <th>1</th>\n",
       "      <td>841076000</td>\n",
       "      <td>1.000000</td>\n",
       "      <td>0.071429</td>\n",
       "      <td>6</td>\n",
       "      <td>28</td>\n",
       "      <td>0.652174</td>\n",
       "    </tr>\n",
       "    <tr>\n",
       "      <th>2</th>\n",
       "      <td>53292600</td>\n",
       "      <td>1.000000</td>\n",
       "      <td>0.428571</td>\n",
       "      <td>2</td>\n",
       "      <td>28</td>\n",
       "      <td>0.695652</td>\n",
       "    </tr>\n",
       "    <tr>\n",
       "      <th>3</th>\n",
       "      <td>351837000</td>\n",
       "      <td>1.000000</td>\n",
       "      <td>0.071429</td>\n",
       "      <td>2</td>\n",
       "      <td>14</td>\n",
       "      <td>0.565217</td>\n",
       "    </tr>\n",
       "    <tr>\n",
       "      <th>4</th>\n",
       "      <td>857976000</td>\n",
       "      <td>1.000000</td>\n",
       "      <td>0.000000</td>\n",
       "      <td>3</td>\n",
       "      <td>10</td>\n",
       "      <td>0.352941</td>\n",
       "    </tr>\n",
       "    <tr>\n",
       "      <th>...</th>\n",
       "      <td>...</td>\n",
       "      <td>...</td>\n",
       "      <td>...</td>\n",
       "      <td>...</td>\n",
       "      <td>...</td>\n",
       "      <td>...</td>\n",
       "    </tr>\n",
       "    <tr>\n",
       "      <th>49564</th>\n",
       "      <td>362592000</td>\n",
       "      <td>1.000000</td>\n",
       "      <td>1.000000</td>\n",
       "      <td>1</td>\n",
       "      <td>1</td>\n",
       "      <td>1.000000</td>\n",
       "    </tr>\n",
       "    <tr>\n",
       "      <th>49565</th>\n",
       "      <td>432488000</td>\n",
       "      <td>1.000000</td>\n",
       "      <td>0.000000</td>\n",
       "      <td>1</td>\n",
       "      <td>1</td>\n",
       "      <td>1.000000</td>\n",
       "    </tr>\n",
       "    <tr>\n",
       "      <th>49566</th>\n",
       "      <td>16312200</td>\n",
       "      <td>1.000000</td>\n",
       "      <td>0.000000</td>\n",
       "      <td>1</td>\n",
       "      <td>1</td>\n",
       "      <td>1.000000</td>\n",
       "    </tr>\n",
       "    <tr>\n",
       "      <th>49567</th>\n",
       "      <td>587084000</td>\n",
       "      <td>1.000000</td>\n",
       "      <td>1.000000</td>\n",
       "      <td>1</td>\n",
       "      <td>1</td>\n",
       "      <td>1.000000</td>\n",
       "    </tr>\n",
       "    <tr>\n",
       "      <th>49568</th>\n",
       "      <td>100500000</td>\n",
       "      <td>1.000000</td>\n",
       "      <td>1.000000</td>\n",
       "      <td>1</td>\n",
       "      <td>1</td>\n",
       "      <td>1.000000</td>\n",
       "    </tr>\n",
       "  </tbody>\n",
       "</table>\n",
       "<p>49569 rows × 6 columns</p>\n",
       "</div>"
      ],
      "text/plain": [
       "      customer_id  weekday_ratio  peak_hour_ratio  unique_stops  num_trips  \\\n",
       "0       368907000       0.827586         0.500000             8         29   \n",
       "1       841076000       1.000000         0.071429             6         28   \n",
       "2        53292600       1.000000         0.428571             2         28   \n",
       "3       351837000       1.000000         0.071429             2         14   \n",
       "4       857976000       1.000000         0.000000             3         10   \n",
       "...           ...            ...              ...           ...        ...   \n",
       "49564   362592000       1.000000         1.000000             1          1   \n",
       "49565   432488000       1.000000         0.000000             1          1   \n",
       "49566    16312200       1.000000         0.000000             1          1   \n",
       "49567   587084000       1.000000         1.000000             1          1   \n",
       "49568   100500000       1.000000         1.000000             1          1   \n",
       "\n",
       "       days_travelled_ratio  \n",
       "0                  0.652174  \n",
       "1                  0.652174  \n",
       "2                  0.695652  \n",
       "3                  0.565217  \n",
       "4                  0.352941  \n",
       "...                     ...  \n",
       "49564              1.000000  \n",
       "49565              1.000000  \n",
       "49566              1.000000  \n",
       "49567              1.000000  \n",
       "49568              1.000000  \n",
       "\n",
       "[49569 rows x 6 columns]"
      ]
     },
     "execution_count": 47,
     "metadata": {},
     "output_type": "execute_result"
    }
   ],
   "source": [
    "customer_data = pd.DataFrame()\n",
    "customer_data[\"customer_id\"] = data[\"customer_id\"].drop_duplicates().array\n",
    "\n",
    "# Add ratio between a customer's trips on weekdays and his total trips\n",
    "customer_weekday_weekend_ratios = data[\"is_weekday\"].groupby(data[\"customer_id\"]).mean()\n",
    "customer_weekday_weekend_ratios = customer_weekday_weekend_ratios.rename(\"weekday_ratio\")\n",
    "customer_data = pd.merge(customer_data, customer_weekday_weekend_ratios, on=\"customer_id\")\n",
    "\n",
    "# Add ratio between a customer's trips in peak hours and his weekdays' trips\n",
    "customer_peak_hour_ratios = data[\"is_peak_hour\"].groupby(data[\"customer_id\"]).sum() / data[\"is_weekday\"].groupby(data[\"customer_id\"]).sum()\n",
    "customer_peak_hour_ratios = customer_peak_hour_ratios.fillna(0)\n",
    "customer_peak_hour_ratios = customer_peak_hour_ratios.rename(\"peak_hour_ratio\")\n",
    "customer_data = pd.merge(customer_data, customer_peak_hour_ratios, on=\"customer_id\")\n",
    "\n",
    "# Add a score representing a customer's unique stops used\n",
    "unique_stops_count = data[\"stop\"].groupby(data[\"customer_id\"]).nunique()\n",
    "unique_stops_score = unique_stops_count.rename(\"unique_stops\")\n",
    "customer_data = pd.merge(customer_data, unique_stops_score, on=\"customer_id\")\n",
    "\n",
    "# Add a score representing a customer's number of trips\n",
    "number_of_trips = data[\"customer_id\"].groupby(data[\"customer_id\"]).count()\n",
    "number_of_trips = number_of_trips.rename(\"num_trips\")\n",
    "customer_data = pd.merge(customer_data, number_of_trips, on=\"customer_id\")\n",
    "\n",
    "# Add a score representing how often a customer travels\n",
    "customer_dates = data[\"date\"].groupby(data[\"customer_id\"])\n",
    "days_travelled_total_days_ratios = customer_dates.nunique() / ((customer_dates.max() - customer_dates.min()).dt.days + 1)\n",
    "days_travelled_total_days_ratios = days_travelled_total_days_ratios.rename(\"days_travelled_ratio\")\n",
    "customer_data = pd.merge(customer_data, days_travelled_total_days_ratios, on=\"customer_id\")\n",
    "\n",
    "\n",
    "# SHOW THE RESULT\n",
    "customer_data"
   ]
  },
  {
   "cell_type": "code",
   "execution_count": 48,
   "metadata": {},
   "outputs": [
    {
     "data": {
      "text/html": [
       "<div>\n",
       "<style scoped>\n",
       "    .dataframe tbody tr th:only-of-type {\n",
       "        vertical-align: middle;\n",
       "    }\n",
       "\n",
       "    .dataframe tbody tr th {\n",
       "        vertical-align: top;\n",
       "    }\n",
       "\n",
       "    .dataframe thead th {\n",
       "        text-align: right;\n",
       "    }\n",
       "</style>\n",
       "<table border=\"1\" class=\"dataframe\">\n",
       "  <thead>\n",
       "    <tr style=\"text-align: right;\">\n",
       "      <th></th>\n",
       "      <th>weekday_ratio</th>\n",
       "      <th>peak_hour_ratio</th>\n",
       "      <th>unique_stops</th>\n",
       "      <th>num_trips</th>\n",
       "      <th>days_travelled_ratio</th>\n",
       "    </tr>\n",
       "  </thead>\n",
       "  <tbody>\n",
       "    <tr>\n",
       "      <th>count</th>\n",
       "      <td>49569.000000</td>\n",
       "      <td>49569.000000</td>\n",
       "      <td>49569.000000</td>\n",
       "      <td>49569.000000</td>\n",
       "      <td>49569.000000</td>\n",
       "    </tr>\n",
       "    <tr>\n",
       "      <th>mean</th>\n",
       "      <td>0.840104</td>\n",
       "      <td>0.451628</td>\n",
       "      <td>4.369909</td>\n",
       "      <td>11.054732</td>\n",
       "      <td>0.672746</td>\n",
       "    </tr>\n",
       "    <tr>\n",
       "      <th>std</th>\n",
       "      <td>0.306031</td>\n",
       "      <td>0.364989</td>\n",
       "      <td>4.141670</td>\n",
       "      <td>13.377970</td>\n",
       "      <td>0.293479</td>\n",
       "    </tr>\n",
       "    <tr>\n",
       "      <th>min</th>\n",
       "      <td>0.000000</td>\n",
       "      <td>0.000000</td>\n",
       "      <td>1.000000</td>\n",
       "      <td>1.000000</td>\n",
       "      <td>0.086957</td>\n",
       "    </tr>\n",
       "    <tr>\n",
       "      <th>25%</th>\n",
       "      <td>0.844828</td>\n",
       "      <td>0.000000</td>\n",
       "      <td>2.000000</td>\n",
       "      <td>2.000000</td>\n",
       "      <td>0.416667</td>\n",
       "    </tr>\n",
       "    <tr>\n",
       "      <th>50%</th>\n",
       "      <td>1.000000</td>\n",
       "      <td>0.482759</td>\n",
       "      <td>3.000000</td>\n",
       "      <td>5.000000</td>\n",
       "      <td>0.666667</td>\n",
       "    </tr>\n",
       "    <tr>\n",
       "      <th>75%</th>\n",
       "      <td>1.000000</td>\n",
       "      <td>0.750000</td>\n",
       "      <td>6.000000</td>\n",
       "      <td>16.000000</td>\n",
       "      <td>1.000000</td>\n",
       "    </tr>\n",
       "    <tr>\n",
       "      <th>max</th>\n",
       "      <td>1.000000</td>\n",
       "      <td>1.000000</td>\n",
       "      <td>46.000000</td>\n",
       "      <td>165.000000</td>\n",
       "      <td>1.000000</td>\n",
       "    </tr>\n",
       "  </tbody>\n",
       "</table>\n",
       "</div>"
      ],
      "text/plain": [
       "       weekday_ratio  peak_hour_ratio  unique_stops     num_trips  \\\n",
       "count   49569.000000     49569.000000  49569.000000  49569.000000   \n",
       "mean        0.840104         0.451628      4.369909     11.054732   \n",
       "std         0.306031         0.364989      4.141670     13.377970   \n",
       "min         0.000000         0.000000      1.000000      1.000000   \n",
       "25%         0.844828         0.000000      2.000000      2.000000   \n",
       "50%         1.000000         0.482759      3.000000      5.000000   \n",
       "75%         1.000000         0.750000      6.000000     16.000000   \n",
       "max         1.000000         1.000000     46.000000    165.000000   \n",
       "\n",
       "       days_travelled_ratio  \n",
       "count          49569.000000  \n",
       "mean               0.672746  \n",
       "std                0.293479  \n",
       "min                0.086957  \n",
       "25%                0.416667  \n",
       "50%                0.666667  \n",
       "75%                1.000000  \n",
       "max                1.000000  "
      ]
     },
     "execution_count": 48,
     "metadata": {},
     "output_type": "execute_result"
    }
   ],
   "source": [
    "customer_data.describe()"
   ]
  },
  {
   "cell_type": "markdown",
   "metadata": {},
   "source": [
    "## 6. Run a machine learning model : K-Means algorithm"
   ]
  },
  {
   "cell_type": "markdown",
   "metadata": {},
   "source": [
    "### Standardize our data"
   ]
  },
  {
   "cell_type": "code",
   "execution_count": 49,
   "metadata": {
    "scrolled": false
   },
   "outputs": [
    {
     "name": "stdout",
     "output_type": "stream",
     "text": [
      "<class 'pandas.core.frame.DataFrame'>\n",
      "Int64Index: 31767 entries, 0 to 49487\n",
      "Data columns (total 6 columns):\n",
      " #   Column                Non-Null Count  Dtype   \n",
      "---  ------                --------------  -----   \n",
      " 0   customer_id           31767 non-null  category\n",
      " 1   weekday_ratio         31767 non-null  float64 \n",
      " 2   peak_hour_ratio       31767 non-null  float64 \n",
      " 3   unique_stops          31767 non-null  int64   \n",
      " 4   num_trips             31767 non-null  int64   \n",
      " 5   days_travelled_ratio  31767 non-null  float64 \n",
      "dtypes: category(1), float64(3), int64(2)\n",
      "memory usage: 3.2 MB\n"
     ]
    }
   ],
   "source": [
    "from scipy import stats\n",
    "# customer_data = customer_data[customer_data[\"weekday_ratio\"].quantile(.005) < customer_data[\"weekday_ratio\"] < customer_data[\"weekday_ratio\"].quantile(.995)]\n",
    "# customer_data = customer_data[customer_data.between(customer_data.quantile(.005), customer_data.quantile(.995))]\n",
    "customer_data_no_outliers = customer_data\n",
    "\n",
    "# temp = customer_data.loc[:, customer_data.columns != 'customer_id']\n",
    "# customer_data_no_outliers = customer_data[(np.abs((temp-temp.median())/temp.mad()) < 5).all(axis=1)]\n",
    "customer_data_no_outliers = customer_data_no_outliers[customer_data_no_outliers.num_trips >= 3]\n",
    "customer_data_no_outliers.reset_index()\n",
    "\n",
    "kmeans_data = customer_data_no_outliers.loc[:, customer_data_no_outliers.columns != 'customer_id']\n",
    "kmeans_data = (kmeans_data - kmeans_data.median()) / kmeans_data.mad()\n",
    "customer_data_no_outliers.info()"
   ]
  },
  {
   "cell_type": "code",
   "execution_count": 50,
   "metadata": {
    "scrolled": false
   },
   "outputs": [
    {
     "data": {
      "text/html": [
       "<div>\n",
       "<style scoped>\n",
       "    .dataframe tbody tr th:only-of-type {\n",
       "        vertical-align: middle;\n",
       "    }\n",
       "\n",
       "    .dataframe tbody tr th {\n",
       "        vertical-align: top;\n",
       "    }\n",
       "\n",
       "    .dataframe thead th {\n",
       "        text-align: right;\n",
       "    }\n",
       "</style>\n",
       "<table border=\"1\" class=\"dataframe\">\n",
       "  <thead>\n",
       "    <tr style=\"text-align: right;\">\n",
       "      <th></th>\n",
       "      <th>weekday_ratio</th>\n",
       "      <th>peak_hour_ratio</th>\n",
       "      <th>unique_stops</th>\n",
       "      <th>num_trips</th>\n",
       "      <th>days_travelled_ratio</th>\n",
       "    </tr>\n",
       "  </thead>\n",
       "  <tbody>\n",
       "    <tr>\n",
       "      <th>0</th>\n",
       "      <td>-1.332787</td>\n",
       "      <td>0.000000</td>\n",
       "      <td>0.936634</td>\n",
       "      <td>1.588111</td>\n",
       "      <td>0.672275</td>\n",
       "    </tr>\n",
       "    <tr>\n",
       "      <th>1</th>\n",
       "      <td>0.000000</td>\n",
       "      <td>-1.727204</td>\n",
       "      <td>0.312211</td>\n",
       "      <td>1.494693</td>\n",
       "      <td>0.672275</td>\n",
       "    </tr>\n",
       "    <tr>\n",
       "      <th>2</th>\n",
       "      <td>0.000000</td>\n",
       "      <td>-0.287867</td>\n",
       "      <td>-0.936634</td>\n",
       "      <td>1.494693</td>\n",
       "      <td>0.904515</td>\n",
       "    </tr>\n",
       "    <tr>\n",
       "      <th>3</th>\n",
       "      <td>0.000000</td>\n",
       "      <td>-1.727204</td>\n",
       "      <td>-0.936634</td>\n",
       "      <td>0.186837</td>\n",
       "      <td>0.207794</td>\n",
       "    </tr>\n",
       "    <tr>\n",
       "      <th>4</th>\n",
       "      <td>0.000000</td>\n",
       "      <td>-2.015071</td>\n",
       "      <td>-0.624423</td>\n",
       "      <td>-0.186837</td>\n",
       "      <td>-0.926086</td>\n",
       "    </tr>\n",
       "    <tr>\n",
       "      <th>...</th>\n",
       "      <td>...</td>\n",
       "      <td>...</td>\n",
       "      <td>...</td>\n",
       "      <td>...</td>\n",
       "      <td>...</td>\n",
       "    </tr>\n",
       "    <tr>\n",
       "      <th>49397</th>\n",
       "      <td>0.000000</td>\n",
       "      <td>0.671690</td>\n",
       "      <td>-0.624423</td>\n",
       "      <td>-0.840765</td>\n",
       "      <td>2.530198</td>\n",
       "    </tr>\n",
       "    <tr>\n",
       "      <th>49403</th>\n",
       "      <td>0.000000</td>\n",
       "      <td>0.000000</td>\n",
       "      <td>-0.624423</td>\n",
       "      <td>-0.747346</td>\n",
       "      <td>2.530198</td>\n",
       "    </tr>\n",
       "    <tr>\n",
       "      <th>49422</th>\n",
       "      <td>0.000000</td>\n",
       "      <td>0.671690</td>\n",
       "      <td>-0.624423</td>\n",
       "      <td>-0.840765</td>\n",
       "      <td>2.530198</td>\n",
       "    </tr>\n",
       "    <tr>\n",
       "      <th>49446</th>\n",
       "      <td>0.000000</td>\n",
       "      <td>0.000000</td>\n",
       "      <td>-0.312211</td>\n",
       "      <td>-0.747346</td>\n",
       "      <td>2.530198</td>\n",
       "    </tr>\n",
       "    <tr>\n",
       "      <th>49487</th>\n",
       "      <td>0.000000</td>\n",
       "      <td>-0.671690</td>\n",
       "      <td>-0.624423</td>\n",
       "      <td>-0.840765</td>\n",
       "      <td>2.530198</td>\n",
       "    </tr>\n",
       "  </tbody>\n",
       "</table>\n",
       "<p>31767 rows × 5 columns</p>\n",
       "</div>"
      ],
      "text/plain": [
       "       weekday_ratio  peak_hour_ratio  unique_stops  num_trips  \\\n",
       "0          -1.332787         0.000000      0.936634   1.588111   \n",
       "1           0.000000        -1.727204      0.312211   1.494693   \n",
       "2           0.000000        -0.287867     -0.936634   1.494693   \n",
       "3           0.000000        -1.727204     -0.936634   0.186837   \n",
       "4           0.000000        -2.015071     -0.624423  -0.186837   \n",
       "...              ...              ...           ...        ...   \n",
       "49397       0.000000         0.671690     -0.624423  -0.840765   \n",
       "49403       0.000000         0.000000     -0.624423  -0.747346   \n",
       "49422       0.000000         0.671690     -0.624423  -0.840765   \n",
       "49446       0.000000         0.000000     -0.312211  -0.747346   \n",
       "49487       0.000000        -0.671690     -0.624423  -0.840765   \n",
       "\n",
       "       days_travelled_ratio  \n",
       "0                  0.672275  \n",
       "1                  0.672275  \n",
       "2                  0.904515  \n",
       "3                  0.207794  \n",
       "4                 -0.926086  \n",
       "...                     ...  \n",
       "49397              2.530198  \n",
       "49403              2.530198  \n",
       "49422              2.530198  \n",
       "49446              2.530198  \n",
       "49487              2.530198  \n",
       "\n",
       "[31767 rows x 5 columns]"
      ]
     },
     "execution_count": 50,
     "metadata": {},
     "output_type": "execute_result"
    }
   ],
   "source": [
    "kmeans_data"
   ]
  },
  {
   "cell_type": "markdown",
   "metadata": {},
   "source": [
    "### Run K-Means on our data"
   ]
  },
  {
   "cell_type": "code",
   "execution_count": 51,
   "metadata": {},
   "outputs": [
    {
     "name": "stderr",
     "output_type": "stream",
     "text": [
      "C:\\Users\\Didou\\Miniconda3\\envs\\translead_env\\lib\\site-packages\\pandas\\core\\indexing.py:844: SettingWithCopyWarning: \n",
      "A value is trying to be set on a copy of a slice from a DataFrame.\n",
      "Try using .loc[row_indexer,col_indexer] = value instead\n",
      "\n",
      "See the caveats in the documentation: https://pandas.pydata.org/pandas-docs/stable/user_guide/indexing.html#returning-a-view-versus-a-copy\n",
      "  self.obj[key] = _infer_fill_value(value)\n",
      "C:\\Users\\Didou\\Miniconda3\\envs\\translead_env\\lib\\site-packages\\pandas\\core\\indexing.py:965: SettingWithCopyWarning: \n",
      "A value is trying to be set on a copy of a slice from a DataFrame.\n",
      "Try using .loc[row_indexer,col_indexer] = value instead\n",
      "\n",
      "See the caveats in the documentation: https://pandas.pydata.org/pandas-docs/stable/user_guide/indexing.html#returning-a-view-versus-a-copy\n",
      "  self.obj[item] = s\n"
     ]
    }
   ],
   "source": [
    "from sklearn.cluster import KMeans\n",
    "chosen_k = 5\n",
    "kmeans = KMeans(n_clusters=chosen_k).fit(kmeans_data) \n",
    "customer_data_no_outliers.loc[:,\"cluster\"] = kmeans.labels_"
   ]
  },
  {
   "cell_type": "code",
   "execution_count": 52,
   "metadata": {},
   "outputs": [
    {
     "data": {
      "text/html": [
       "<div>\n",
       "<style scoped>\n",
       "    .dataframe tbody tr th:only-of-type {\n",
       "        vertical-align: middle;\n",
       "    }\n",
       "\n",
       "    .dataframe tbody tr th {\n",
       "        vertical-align: top;\n",
       "    }\n",
       "\n",
       "    .dataframe thead th {\n",
       "        text-align: right;\n",
       "    }\n",
       "</style>\n",
       "<table border=\"1\" class=\"dataframe\">\n",
       "  <thead>\n",
       "    <tr style=\"text-align: right;\">\n",
       "      <th></th>\n",
       "      <th>customer_id</th>\n",
       "      <th>weekday_ratio</th>\n",
       "      <th>peak_hour_ratio</th>\n",
       "      <th>unique_stops</th>\n",
       "      <th>num_trips</th>\n",
       "      <th>days_travelled_ratio</th>\n",
       "      <th>cluster</th>\n",
       "    </tr>\n",
       "  </thead>\n",
       "  <tbody>\n",
       "    <tr>\n",
       "      <th>0</th>\n",
       "      <td>368907000</td>\n",
       "      <td>0.827586</td>\n",
       "      <td>0.500000</td>\n",
       "      <td>8</td>\n",
       "      <td>29</td>\n",
       "      <td>0.652174</td>\n",
       "      <td>4</td>\n",
       "    </tr>\n",
       "    <tr>\n",
       "      <th>1</th>\n",
       "      <td>841076000</td>\n",
       "      <td>1.000000</td>\n",
       "      <td>0.071429</td>\n",
       "      <td>6</td>\n",
       "      <td>28</td>\n",
       "      <td>0.652174</td>\n",
       "      <td>4</td>\n",
       "    </tr>\n",
       "    <tr>\n",
       "      <th>2</th>\n",
       "      <td>53292600</td>\n",
       "      <td>1.000000</td>\n",
       "      <td>0.428571</td>\n",
       "      <td>2</td>\n",
       "      <td>28</td>\n",
       "      <td>0.695652</td>\n",
       "      <td>4</td>\n",
       "    </tr>\n",
       "    <tr>\n",
       "      <th>3</th>\n",
       "      <td>351837000</td>\n",
       "      <td>1.000000</td>\n",
       "      <td>0.071429</td>\n",
       "      <td>2</td>\n",
       "      <td>14</td>\n",
       "      <td>0.565217</td>\n",
       "      <td>0</td>\n",
       "    </tr>\n",
       "    <tr>\n",
       "      <th>4</th>\n",
       "      <td>857976000</td>\n",
       "      <td>1.000000</td>\n",
       "      <td>0.000000</td>\n",
       "      <td>3</td>\n",
       "      <td>10</td>\n",
       "      <td>0.352941</td>\n",
       "      <td>0</td>\n",
       "    </tr>\n",
       "    <tr>\n",
       "      <th>...</th>\n",
       "      <td>...</td>\n",
       "      <td>...</td>\n",
       "      <td>...</td>\n",
       "      <td>...</td>\n",
       "      <td>...</td>\n",
       "      <td>...</td>\n",
       "      <td>...</td>\n",
       "    </tr>\n",
       "    <tr>\n",
       "      <th>49397</th>\n",
       "      <td>513193000</td>\n",
       "      <td>1.000000</td>\n",
       "      <td>0.666667</td>\n",
       "      <td>3</td>\n",
       "      <td>3</td>\n",
       "      <td>1.000000</td>\n",
       "      <td>3</td>\n",
       "    </tr>\n",
       "    <tr>\n",
       "      <th>49403</th>\n",
       "      <td>816210000</td>\n",
       "      <td>1.000000</td>\n",
       "      <td>0.500000</td>\n",
       "      <td>3</td>\n",
       "      <td>4</td>\n",
       "      <td>1.000000</td>\n",
       "      <td>4</td>\n",
       "    </tr>\n",
       "    <tr>\n",
       "      <th>49422</th>\n",
       "      <td>229659000</td>\n",
       "      <td>1.000000</td>\n",
       "      <td>0.666667</td>\n",
       "      <td>3</td>\n",
       "      <td>3</td>\n",
       "      <td>1.000000</td>\n",
       "      <td>3</td>\n",
       "    </tr>\n",
       "    <tr>\n",
       "      <th>49446</th>\n",
       "      <td>930101000</td>\n",
       "      <td>1.000000</td>\n",
       "      <td>0.500000</td>\n",
       "      <td>4</td>\n",
       "      <td>4</td>\n",
       "      <td>1.000000</td>\n",
       "      <td>4</td>\n",
       "    </tr>\n",
       "    <tr>\n",
       "      <th>49487</th>\n",
       "      <td>23075600</td>\n",
       "      <td>1.000000</td>\n",
       "      <td>0.333333</td>\n",
       "      <td>3</td>\n",
       "      <td>3</td>\n",
       "      <td>1.000000</td>\n",
       "      <td>4</td>\n",
       "    </tr>\n",
       "  </tbody>\n",
       "</table>\n",
       "<p>31767 rows × 7 columns</p>\n",
       "</div>"
      ],
      "text/plain": [
       "      customer_id  weekday_ratio  peak_hour_ratio  unique_stops  num_trips  \\\n",
       "0       368907000       0.827586         0.500000             8         29   \n",
       "1       841076000       1.000000         0.071429             6         28   \n",
       "2        53292600       1.000000         0.428571             2         28   \n",
       "3       351837000       1.000000         0.071429             2         14   \n",
       "4       857976000       1.000000         0.000000             3         10   \n",
       "...           ...            ...              ...           ...        ...   \n",
       "49397   513193000       1.000000         0.666667             3          3   \n",
       "49403   816210000       1.000000         0.500000             3          4   \n",
       "49422   229659000       1.000000         0.666667             3          3   \n",
       "49446   930101000       1.000000         0.500000             4          4   \n",
       "49487    23075600       1.000000         0.333333             3          3   \n",
       "\n",
       "       days_travelled_ratio  cluster  \n",
       "0                  0.652174        4  \n",
       "1                  0.652174        4  \n",
       "2                  0.695652        4  \n",
       "3                  0.565217        0  \n",
       "4                  0.352941        0  \n",
       "...                     ...      ...  \n",
       "49397              1.000000        3  \n",
       "49403              1.000000        4  \n",
       "49422              1.000000        3  \n",
       "49446              1.000000        4  \n",
       "49487              1.000000        4  \n",
       "\n",
       "[31767 rows x 7 columns]"
      ]
     },
     "execution_count": 52,
     "metadata": {},
     "output_type": "execute_result"
    }
   ],
   "source": [
    "customer_data_no_outliers"
   ]
  },
  {
   "cell_type": "markdown",
   "metadata": {},
   "source": [
    "### Graphical representation of our results"
   ]
  },
  {
   "cell_type": "code",
   "execution_count": 53,
   "metadata": {},
   "outputs": [
    {
     "data": {
      "text/plain": [
       "<matplotlib.axes._subplots.AxesSubplot at 0x27ddac1a5e0>"
      ]
     },
     "execution_count": 53,
     "metadata": {},
     "output_type": "execute_result"
    },
    {
     "data": {
      "image/png": "[encoded data removed]",
      "text/plain": [
       "<Figure size 720x432 with 1 Axes>"
      ]
     },
     "metadata": {
      "needs_background": "light"
     },
     "output_type": "display_data"
    }
   ],
   "source": [
    "plt.figure(figsize=(10,6))\n",
    "clusters_size = customer_data_no_outliers[\"cluster\"].groupby(customer_data_no_outliers[\"cluster\"]).count()\n",
    "clusters_size.plot(kind=\"bar\")"
   ]
  },
  {
   "cell_type": "markdown",
   "metadata": {},
   "source": [
    "**Percentage of each cluster :**"
   ]
  },
  {
   "cell_type": "code",
   "execution_count": 54,
   "metadata": {},
   "outputs": [
    {
     "data": {
      "text/plain": [
       "cluster\n",
       "0    25.72\n",
       "1    10.14\n",
       "2     7.39\n",
       "3    27.41\n",
       "4    29.34\n",
       "Name: cluster, dtype: float64"
      ]
     },
     "execution_count": 54,
     "metadata": {},
     "output_type": "execute_result"
    }
   ],
   "source": [
    "(clusters_size / clusters_size.sum() * 100).round(2).head(chosen_k)"
   ]
  },
  {
   "cell_type": "code",
   "execution_count": null,
   "metadata": {},
   "outputs": [
    {
     "data": {
      "text/plain": [
       "<matplotlib.colorbar.Colorbar at 0x27ddae48400>"
      ]
     },
     "execution_count": 55,
     "metadata": {},
     "output_type": "execute_result"
    }
   ],
   "source": [
    "plt.figure(figsize=(10,6))\n",
    "pca = sk.decomposition.PCA(3)  # project from 64 to 2 dimensions\n",
    "projected = pca.fit_transform(kmeans_data)\n",
    "plt.scatter(projected[:, 0], projected[:, 1],\n",
    "            c=customer_data_no_outliers.cluster, s = 0.5)\n",
    "plt.xlabel('component 1')\n",
    "plt.ylabel('component 2')\n",
    "plt.colorbar()"
   ]
  },
  {
   "cell_type": "code",
   "execution_count": null,
   "metadata": {
    "scrolled": false
   },
   "outputs": [],
   "source": [
    "pca.explained_variance_ratio_"
   ]
  },
  {
   "cell_type": "markdown",
   "metadata": {},
   "source": [
    "## 7. Find the optimal number of clusters"
   ]
  },
  {
   "cell_type": "markdown",
   "metadata": {},
   "source": [
    "### Run K-Means on 2 to 10 clusters on the data"
   ]
  },
  {
   "cell_type": "code",
   "execution_count": null,
   "metadata": {},
   "outputs": [],
   "source": [
    "# dissimilarity would not be defined for a single cluster, thus, minimum number of clusters should be 2\n",
    "from sklearn.metrics import silhouette_score\n",
    "# sil_scores = []\n",
    "inertias = []\n",
    "kmax = 10\n",
    "for k in range(2, kmax+1):\n",
    "    kmeans = KMeans(n_clusters=k).fit(kmeans_data) \n",
    "#     sil_scores.append(silhouette_score(kmeans_data, kmeans.labels_, metric='euclidean'))\n",
    "    inertias.append(kmeans.inertia_)"
   ]
  },
  {
   "cell_type": "markdown",
   "metadata": {},
   "source": [
    "### Plot the result and choose the optimal K number of clusters"
   ]
  },
  {
   "cell_type": "code",
   "execution_count": null,
   "metadata": {},
   "outputs": [],
   "source": [
    "# sil_scores\n",
    "inertias"
   ]
  },
  {
   "cell_type": "code",
   "execution_count": null,
   "metadata": {
    "scrolled": true
   },
   "outputs": [],
   "source": [
    "# plt.plot(list(range(2,kmax+1)),sil_scores)\n",
    "plt.plot(list(range(2,kmax+1)),inertias)"
   ]
  },
  {
   "cell_type": "markdown",
   "metadata": {},
   "source": [
    "### Input the chosen optimal number of clusters and see the results"
   ]
  },
  {
   "cell_type": "code",
   "execution_count": null,
   "metadata": {},
   "outputs": [],
   "source": [
    "chosen_k = 4\n",
    "kmeans = KMeans(n_clusters=chosen_k).fit(kmeans_data)\n",
    "customer_data_no_outliers.loc[:,\"cluster\"] = kmeans.labels_"
   ]
  },
  {
   "cell_type": "markdown",
   "metadata": {},
   "source": [
    "### Graphical representation of our results"
   ]
  },
  {
   "cell_type": "code",
   "execution_count": null,
   "metadata": {},
   "outputs": [],
   "source": [
    "plt.figure(figsize=(10,6))\n",
    "clusters_size = customer_data_no_outliers[\"cluster\"].groupby(customer_data_no_outliers[\"cluster\"]).count()\n",
    "clusters_size.plot(kind=\"bar\")"
   ]
  },
  {
   "cell_type": "markdown",
   "metadata": {},
   "source": [
    "**Percentage of each cluster :**"
   ]
  },
  {
   "cell_type": "code",
   "execution_count": null,
   "metadata": {},
   "outputs": [],
   "source": [
    "(clusters_size / clusters_size.sum() * 100).round(2).head(chosen_k)"
   ]
  },
  {
   "cell_type": "code",
   "execution_count": null,
   "metadata": {},
   "outputs": [],
   "source": [
    "from matplotlib.ticker import (LinearLocator, MultipleLocator, FormatStrFormatter, AutoMinorLocator)\n",
    "\n",
    "fig = plt.figure(figsize=(15,15))\n",
    "num_metrics = 4\n",
    "\n",
    "for k in range(0,chosen_k):\n",
    "    \n",
    "    k_data = data.loc[data.customer_id.isin(customer_data_no_outliers.loc[customer_data_no_outliers.cluster == k,\"customer_id\"].values),:]\n",
    "    plot1 = plt.subplot(num_metrics,chosen_k,k+1)\n",
    "    trips_per_day = k_data[\"day_of_week\"].groupby(k_data[\"day_of_week\"]).count()\n",
    "    trips_per_day.plot(kind=\"bar\")\n",
    "    \n",
    "    plot2 = plt.subplot(num_metrics,chosen_k,k+1+chosen_k)\n",
    "    trips_per_time = k_data[\"tap_on_time\"].groupby(k_data[\"tap_on_time\"].dt.components['hours']).count()\n",
    "    trips_per_time = trips_per_time\n",
    "    trips_per_time.plot(kind=\"bar\")\n",
    "    \n",
    "    plot3 = plt.subplot(num_metrics,chosen_k,k+1+2*chosen_k)\n",
    "    plot3.set_yscale('log')\n",
    "    num_trips_per_customer = k_data[\"customer_id\"].groupby(k_data[\"customer_id\"]).count()\n",
    "    num_cust_per_trips_num = num_trips_per_customer.groupby(num_trips_per_customer.values).count()\n",
    "    num_cust_per_trips_num = num_cust_per_trips_num.drop(labels=0)\n",
    "    num_cust_per_trips_num.plot(kind=\"bar\")\n",
    "    plot3.set(xlabel=\"number_of_trips\")\n",
    "    \n",
    "    plot4 = plt.subplot(num_metrics,chosen_k,k+1+3*chosen_k)\n",
    "    plot4.set_yscale('log')\n",
    "    num_origins_per_customer = k_data[\"stop\"].groupby(k_data[\"customer_id\"]).nunique()\n",
    "    num_cust_per_ori_num = num_origins_per_customer.groupby(num_origins_per_customer.values).count()\n",
    "    num_cust_per_ori_num = num_cust_per_ori_num.drop(labels=0)\n",
    "    num_cust_per_ori_num.plot(kind=\"bar\")\n",
    "    plot4.set(xlabel=\"number_of_origins\")\n",
    "\n",
    "\n",
    "for ax in fig.get_axes():\n",
    "    ax.xaxis.set_major_locator(LinearLocator(numticks = 7))\n",
    "    ax.xaxis.set_major_formatter(FormatStrFormatter('%d'))\n",
    "plt.show()"
   ]
  },
  {
   "cell_type": "code",
   "execution_count": null,
   "metadata": {},
   "outputs": [],
   "source": [
    "plt.figure(figsize=(10,6))\n",
    "sns.boxplot(customer_data_no_outliers[\"cluster\"],customer_data_no_outliers[\"num_trips\"], showfliers = False)"
   ]
  },
  {
   "cell_type": "code",
   "execution_count": null,
   "metadata": {},
   "outputs": [],
   "source": [
    "plt.figure(figsize=(10,6))\n",
    "sns.boxplot(customer_data_no_outliers[\"cluster\"],customer_data_no_outliers[\"unique_stops\"], showfliers = False)"
   ]
  },
  {
   "cell_type": "code",
   "execution_count": null,
   "metadata": {},
   "outputs": [],
   "source": [
    "plt.figure(figsize=(10,6))\n",
    "sns.boxplot(customer_data_no_outliers[\"cluster\"],customer_data_no_outliers[\"weekday_ratio\"], showfliers = False)"
   ]
  },
  {
   "cell_type": "code",
   "execution_count": null,
   "metadata": {},
   "outputs": [],
   "source": [
    "plt.figure(figsize=(10,6))\n",
    "sns.boxplot(customer_data_no_outliers[\"cluster\"],customer_data_no_outliers[\"peak_hour_ratio\"], showfliers = False)"
   ]
  },
  {
   "cell_type": "code",
   "execution_count": null,
   "metadata": {},
   "outputs": [],
   "source": [
    "plt.figure(figsize=(10,6))\n",
    "sns.boxplot(customer_data_no_outliers[\"cluster\"],customer_data_no_outliers[\"days_travelled_ratio\"], showfliers = False)"
   ]
  },
  {
   "cell_type": "code",
   "execution_count": null,
   "metadata": {},
   "outputs": [],
   "source": [
    "plt.figure(figsize=(10,6))\n",
    "pca = sk.decomposition.PCA(2)  # project from 64 to 2 dimensions\n",
    "projected = pca.fit_transform(kmeans_data)\n",
    "plt.scatter(projected[:, 0], projected[:, 1],\n",
    "            c=customer_data_no_outliers.cluster, s = 0.5)\n",
    "plt.xlabel('component 1')\n",
    "plt.ylabel('component 2')\n",
    "plt.colorbar()"
   ]
  },
  {
   "cell_type": "code",
   "execution_count": null,
   "metadata": {
    "scrolled": false
   },
   "outputs": [],
   "source": [
    "pca.explained_variance_ratio_"
   ]
  },
  {
   "cell_type": "code",
   "execution_count": null,
   "metadata": {},
   "outputs": [],
   "source": []
  },
  {
   "cell_type": "code",
   "execution_count": null,
   "metadata": {},
   "outputs": [],
   "source": []
  },
  {
   "cell_type": "code",
   "execution_count": null,
   "metadata": {},
   "outputs": [],
   "source": []
  },
  {
   "cell_type": "code",
   "execution_count": null,
   "metadata": {},
   "outputs": [],
   "source": []
  }
 ],
 "metadata": {
  "anaconda-cloud": {},
  "kernelspec": {
   "display_name": "Python 3",
   "language": "python",
   "name": "python3"
  },
  "language_info": {
   "codemirror_mode": {
    "name": "ipython",
    "version": 3
   },
   "file_extension": ".py",
   "mimetype": "text/x-python",
   "name": "python",
   "nbconvert_exporter": "python",
   "pygments_lexer": "ipython3",
   "version": "3.8.1"
  }
 },
 "nbformat": 4,
 "nbformat_minor": 1
}
