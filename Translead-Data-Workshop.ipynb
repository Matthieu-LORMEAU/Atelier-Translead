{
 "cells": [
  {
   "cell_type": "markdown",
   "metadata": {
    "slideshow": {
     "slide_type": "slide"
    }
   },
   "source": [
    "# Welcome to the Data Workshop\n",
    "---\n",
    "\n",
    "## What is the goal of this workshop?\n",
    "\n",
    "Through this workshop, you will learn the ropes of the complete process that a Data Scientist goes through in order to transform data into valuable knowledge.\n",
    "\n",
    "### What data ?\n",
    "\n",
    "Your input data will be a file containing daily information for customers' ticketing. From this data, we will extract different groups of customers with different habits.\n",
    "\n",
    "### How ?\n",
    "\n",
    "With this goal in mind, you will perform the following steps :<br/><br/>\n",
    "1. Prepare the coding environment<br/>\n",
    "2. Load the data into this python script<br/>\n",
    "3. Prepare the data for future analysis<br/>\n",
    "4. Explore the data to gain some general insights about it<br/>\n",
    "5. Create useful features to characterize customers' habits<br/>\n",
    "6. Run a machine learning model : K-Means algorithm<br/>\n",
    "7. Find the optimal number of clusters<br/>"
   ]
  },
  {
   "cell_type": "markdown",
   "metadata": {},
   "source": [
    "## How to use this notebook\n",
    "\n",
    "This notebook is composed of cells :\n",
    "- some cells contain textual explanations\n",
    "- some cells contain code\n",
    "\n",
    "You will advance in this notebook by reading the text cells and **running the code cells**. To run a code cell, you need to select it and hit the **&#9658; Run** button at the top.\n",
    "\n",
    "**Some cells are incomplete ; you will need to complete them before running them**. \n",
    "<br/>These incomplete cells are explicitly marked with a    **# _--------------------------TO DO-------------------------_**    header."
   ]
  },
  {
   "cell_type": "markdown",
   "metadata": {
    "slideshow": {
     "slide_type": "slide"
    }
   },
   "source": [
    "## 1. Prepare the coding environment\n",
    "---\n",
    "Through this workshop, we will use some tools called libraries that will help us in our workflow.<br/>\n",
    "<br />Libraries are powerful and efficient (fast) tools created by the python community that allow us to write very little code to perform complex actions. There are a lot of python libraries and we will only be using a few of them through this workshop:\n",
    "\n",
    "|Library &nbsp; &nbsp; &nbsp; &nbsp; &nbsp; &nbsp; &nbsp; &nbsp; &nbsp; &nbsp; &nbsp; &nbsp; &nbsp; &nbsp; &nbsp;&nbsp; &nbsp; &nbsp; &nbsp; &nbsp; &nbsp;|Description &nbsp; &nbsp; &nbsp; &nbsp; &nbsp; &nbsp; &nbsp; &nbsp; &nbsp; &nbsp; &nbsp; &nbsp; &nbsp; &nbsp; &nbsp;&nbsp; &nbsp; &nbsp; &nbsp; &nbsp; &nbsp;|Usual acronym inside code &nbsp; &nbsp; &nbsp; &nbsp; &nbsp; &nbsp; &nbsp; &nbsp; &nbsp; &nbsp; &nbsp; &nbsp; &nbsp; &nbsp; &nbsp;&nbsp; &nbsp; &nbsp; &nbsp; &nbsp; &nbsp;|\n",
    "|:--|:--|:--|\n",
    "|pandas|data manipulation and analysis library|pd|\n",
    "|scikit-learn|machine learning library|sk|\n",
    "|numpy|fast mathematical computation (used by pandas and many other libraries) library|np|\n",
    "|seaborn|data visualization library|sns|\n",
    "|matplotlib|plot library|plt|\n",
    "\n",
    "Now let's import those libraries."
   ]
  },
  {
   "cell_type": "code",
   "execution_count": null,
   "metadata": {
    "slideshow": {
     "slide_type": "subslide"
    }
   },
   "outputs": [],
   "source": [
    "import pandas as pd\n",
    "import sklearn as sk\n",
    "import seaborn as sns\n",
    "import matplotlib.pyplot as plt\n",
    "from matplotlib.ticker import (MultipleLocator, ScalarFormatter)\n",
    "import numpy as np"
   ]
  },
  {
   "cell_type": "markdown",
   "metadata": {
    "slideshow": {
     "slide_type": "slide"
    }
   },
   "source": [
    "---\n",
    "Our data is stored in Transdev's AWS servers.<br/> <br/>**Change the file_name with the file name you were given.<br/>The file_name format is : \"example_name.csv\" .**\n",
    "\n",
    "<br/> The five available datasets are:\n",
    "- ARF-LargeUrban.csv\n",
    "- ARF-MedUrban.csv\n",
    "- ARF-SmallUrban.csv\n",
    "- ROM-MedUrban.csv\n",
    "- LN-LargeUrban.csv"
   ]
  },
  {
   "cell_type": "code",
   "execution_count": null,
   "metadata": {
    "slideshow": {
     "slide_type": "subslide"
    }
   },
   "outputs": [],
   "source": [
    "# ----------------------TO DO----------------------\n",
    "file_name = \"TODO\""
   ]
  },
  {
   "cell_type": "code",
   "execution_count": null,
   "metadata": {},
   "outputs": [],
   "source": [
    "file_name = file_name.strip()\n",
    "print(file_name)\n",
    "import io\n",
    "import requests\n",
    "url=\"https://translead-atelier.s3-eu-west-1.amazonaws.com/dev/\" + file_name\n",
    "s=requests.get(url).content"
   ]
  },
  {
   "cell_type": "markdown",
   "metadata": {},
   "source": [
    "## 2. Load the data\n",
    "---"
   ]
  },
  {
   "cell_type": "markdown",
   "metadata": {},
   "source": [
    "Let's use pandas read_csv built-in function to load the data."
   ]
  },
  {
   "cell_type": "code",
   "execution_count": null,
   "metadata": {},
   "outputs": [],
   "source": [
    "data=pd.read_csv(io.StringIO(s.decode('utf-8')), delimiter=\",\")"
   ]
  },
  {
   "cell_type": "markdown",
   "metadata": {},
   "source": [
    "**Note :** the _data_ object will be used throughout the whole notebook. It is our main data container. "
   ]
  },
  {
   "cell_type": "markdown",
   "metadata": {},
   "source": [
    "---\n",
    "Let's check what our data looks like."
   ]
  },
  {
   "cell_type": "code",
   "execution_count": null,
   "metadata": {},
   "outputs": [],
   "source": [
    "data"
   ]
  },
  {
   "cell_type": "markdown",
   "metadata": {},
   "source": [
    "We have four columns :\n",
    ">\n",
    ">- customer_id is the id of the customer\n",
    ">- date corresponds to the id of the stop where the user started his journey\n",
    ">- tap_on_time is the day where the customer took the transport\n",
    ">- stop is the time where the customer took the transport"
   ]
  },
  {
   "cell_type": "markdown",
   "metadata": {},
   "source": [
    "## 3. Prepare the data for future analysis\n",
    "---\n",
    "<img style=\"float: right;\" src=\"dropdown_excel.png\">\n",
    "\n",
    "\n",
    "<br/>Like with any dataset, every column corresponds to a certain type of object. We, humans, understand directly what the type of an object should be :\n",
    "- 16/01/1997 is a date\n",
    "- \"hello world\" is text\n",
    "- 56°C is a measure of temperature\n",
    "\n",
    "However, pandas (the library that we use to load the data) doesn't always correctly recognize the type of our columns. Therefore we might need to specify manually the type of columns to pandas : it's exactly the same thing as on excel software when we use the type drop down menu (see image beside this text)."
   ]
  },
  {
   "cell_type": "markdown",
   "metadata": {},
   "source": [
    "Let's check the current type of our columns !"
   ]
  },
  {
   "cell_type": "code",
   "execution_count": null,
   "metadata": {},
   "outputs": [],
   "source": [
    "data.info() "
   ]
  },
  {
   "cell_type": "markdown",
   "metadata": {},
   "source": [
    "Pandas didn't recognized our data types correctly. So far Pandas recognized : \n",
    "\n",
    "- _date_ and _tap_on_time_ as **object type** : object type means pandas **didn't understand** what our data is and assigned the default generic object type.<br/><br/>\n",
    "\n",
    "- _stop_ as **int64 type** : int64 means pandas recognized the stops' column as **integers**. While this is true, the stop numbers we have correspond to IDs and we are not really interested into calculations such as mean, median, standard deviation on IDs. We are more interested about how many different stops there are, which stop has the most trips etc. _stop_ is in fact what we call a **categorical** data type compared to a **numerical** data type.<br/><br/>\n",
    "\n",
    "- _customer_id_ is either recognized as object or int64 depending on the datasets\n",
    "\n",
    "\n",
    "As a result, we will convert our columns to the following data types :\n",
    "- _customer_id_ : a _customer_id_ is a categorical data rather than numeric so we will convert it to a **category object**.\n",
    "- date : a specific type exists for dates, which is called **datetime**. We will use datetime for our dates' column.\n",
    "- tap_on_time : a specific type exists for times, which is called **timedelta**. We will use timedelta for our times' column.\n",
    "- stop : category object\n",
    "\n",
    "**Let's make these changes.**"
   ]
  },
  {
   "cell_type": "markdown",
   "metadata": {},
   "source": [
    "---\n",
    "The following code changes the customer_id to a category type."
   ]
  },
  {
   "cell_type": "code",
   "execution_count": null,
   "metadata": {},
   "outputs": [],
   "source": [
    "data[\"customer_id\"] = data[\"customer_id\"].astype(\"category\")"
   ]
  },
  {
   "cell_type": "markdown",
   "metadata": {},
   "source": [
    "Complete the following cell to change the stop column to a category type.\n",
    "\n",
    "**DON'T SKIP this step ! it is mandatory for the rest of the notebook to work.**"
   ]
  },
  {
   "cell_type": "code",
   "execution_count": null,
   "metadata": {},
   "outputs": [],
   "source": [
    "# ----------------------TO DO----------------------\n"
   ]
  },
  {
   "cell_type": "markdown",
   "metadata": {},
   "source": [
    "Fill in the column names in the following code. Remember to put double quotes \" \" around your column name, exactly as in the example above.\n",
    "\n",
    "**DON'T SKIP this step ! it is mandatory for the rest of the notebook to work.**"
   ]
  },
  {
   "cell_type": "code",
   "execution_count": null,
   "metadata": {},
   "outputs": [],
   "source": [
    "# ----------------------TO DO----------------------\n",
    "\n",
    "data[\"TODO\"] = pd.to_datetime(data[\"TODO\"], format=\"%d/%m/%Y\")\n",
    "data[\"TODO\"] = pd.to_timedelta(data[\"TODO\"])"
   ]
  },
  {
   "cell_type": "markdown",
   "metadata": {},
   "source": [
    "---\n",
    "Check if our changes appear correctly by using the _info()_ function (example at beginning of section 3)."
   ]
  },
  {
   "cell_type": "code",
   "execution_count": null,
   "metadata": {},
   "outputs": [],
   "source": [
    "# ----------------------TO DO----------------------\n"
   ]
  },
  {
   "cell_type": "markdown",
   "metadata": {},
   "source": [
    "Thanks to our careful definition of what each column type should be, we will have a cleaner workflow in future steps."
   ]
  },
  {
   "cell_type": "markdown",
   "metadata": {},
   "source": [
    "## 4. Explore the data\n",
    "---"
   ]
  },
  {
   "cell_type": "markdown",
   "metadata": {},
   "source": [
    "### Some statistical indexes"
   ]
  },
  {
   "cell_type": "markdown",
   "metadata": {},
   "source": [
    "Now we'll use the built-in function _describe_ (from pandas library) that gives general insights on our data.<br/><br/>\n",
    "For categorical data and datetimes, _describe_ gives those information :\n",
    ">- count : total number of non-empty values\n",
    ">- unique : number of different values\n",
    ">- top : value that appears the most\n",
    ">- freq : number of times that the \"top\" value appears\n",
    ">- _(only datetimes)_ first : smallest value\n",
    ">- _(only datetimes)_ last : biggest value\n",
    "\n",
    "For numerical data and timedeltas, _describe_ gives those information :\n",
    ">- count : total number of non-empty values\n",
    ">- mean\n",
    ">- std : standard deviation\n",
    ">- min : minimum value\n",
    ">- 25% : first quartile\n",
    ">- 50% : median\n",
    ">- 75% : 3rd quartile\n",
    ">- max : maximum value"
   ]
  },
  {
   "cell_type": "markdown",
   "metadata": {},
   "source": [
    "---\n",
    "How many different customers do we have ?"
   ]
  },
  {
   "cell_type": "code",
   "execution_count": null,
   "metadata": {
    "scrolled": true
   },
   "outputs": [],
   "source": [
    "data[\"customer_id\"].describe()"
   ]
  },
  {
   "cell_type": "markdown",
   "metadata": {},
   "source": [
    "---\n",
    "How many different stops do we have ?"
   ]
  },
  {
   "cell_type": "code",
   "execution_count": null,
   "metadata": {
    "scrolled": false
   },
   "outputs": [],
   "source": [
    "# ----------------------TO DO----------------------\n"
   ]
  },
  {
   "cell_type": "markdown",
   "metadata": {},
   "source": [
    "---\n",
    "What is the first date in our dataset ? the last one ? How many unique days are there ?"
   ]
  },
  {
   "cell_type": "code",
   "execution_count": null,
   "metadata": {
    "scrolled": false
   },
   "outputs": [],
   "source": [
    "# ----------------------TO DO----------------------\n"
   ]
  },
  {
   "cell_type": "markdown",
   "metadata": {},
   "source": [
    "---\n",
    "On an average day, at what time are 25% of our validations done ? 50% ? 75% ?"
   ]
  },
  {
   "cell_type": "code",
   "execution_count": null,
   "metadata": {
    "scrolled": false
   },
   "outputs": [],
   "source": [
    "# ----------------------TO DO----------------------\n"
   ]
  },
  {
   "cell_type": "markdown",
   "metadata": {},
   "source": [
    "Time isn't categorical, so _describe_ gives insights about mean, standard deviation, min value, max value, and quartiles."
   ]
  },
  {
   "cell_type": "markdown",
   "metadata": {},
   "source": [
    "### Some graphical insights"
   ]
  },
  {
   "cell_type": "markdown",
   "metadata": {},
   "source": [
    "In our data, one row matches a single trip. As a result, plotting distributions requires few steps :\n",
    "- group the rows per a criteria we are interested in\n",
    "- count/sum/average (any operation) in each group\n",
    "- plot the result"
   ]
  },
  {
   "cell_type": "markdown",
   "metadata": {},
   "source": [
    "---\n",
    "#### In the time period of our dataset, what is the number of customers per number of trips ?"
   ]
  },
  {
   "cell_type": "markdown",
   "metadata": {},
   "source": [
    "Here is an example of how to plot a certain metric. Steps can vary depending on the metric."
   ]
  },
  {
   "cell_type": "code",
   "execution_count": null,
   "metadata": {
    "scrolled": true
   },
   "outputs": [],
   "source": [
    "# This line focuses on the customer_id column, groups the rows that have the same id, and count the them for each id\n",
    "num_trips_per_customer = data[\"customer_id\"].groupby(data[\"customer_id\"]).count()\n",
    "\n",
    "# This shows the output\n",
    "num_trips_per_customer"
   ]
  },
  {
   "cell_type": "code",
   "execution_count": null,
   "metadata": {},
   "outputs": [],
   "source": [
    "# This line sets the plot size. You can ignore it.\n",
    "plt.figure(figsize=(20,6))\n",
    "\n",
    "# We group by the number of trips and count how many ids realized this number of trip.\n",
    "monotone_trips = num_trips_per_customer.groupby(num_trips_per_customer.values).count()\n",
    "\n",
    "# We plot the result\n",
    "fig = monotone_trips.plot(kind=\"bar\")\n",
    "plt.xlabel(\"number of trips\")\n",
    "plt.ylabel(\"number of customers\")\n",
    "fig.xaxis.set_major_locator(MultipleLocator(5))\n",
    "fig.xaxis.set_major_formatter(ScalarFormatter())\n",
    "xticks = fig.set_xticklabels([1] + list(range(1,monotone_trips.max(),5)))"
   ]
  },
  {
   "cell_type": "markdown",
   "metadata": {},
   "source": [
    "Customers' percentage per trips number sorted in descending order"
   ]
  },
  {
   "cell_type": "code",
   "execution_count": null,
   "metadata": {
    "scrolled": false
   },
   "outputs": [],
   "source": [
    "(monotone_trips / monotone_trips.sum() * 100).sort_values(ascending=False).round(2).head(20)"
   ]
  },
  {
   "cell_type": "markdown",
   "metadata": {},
   "source": [
    "---\n",
    "#### In the time period of our dataset, what is the number of customers per number of different origins (stops) ?"
   ]
  },
  {
   "cell_type": "code",
   "execution_count": null,
   "metadata": {
    "scrolled": true
   },
   "outputs": [],
   "source": [
    "# This line sets the plot size. You can ignore it.\n",
    "plt.figure(figsize=(20,6))\n",
    "\n",
    "# For each customer, we get their trips and count the number of unique stops thanks to nunique function\n",
    "num_origins_per_customer = data[\"stop\"].groupby(data[\"customer_id\"]).nunique()\n",
    "\n",
    "# For each number of unique stops, we count the number of customers\n",
    "num_customers_per_origin = num_origins_per_customer.groupby(num_origins_per_customer.values).count()\n",
    "\n",
    "fig = num_customers_per_origin.plot(kind=\"bar\")\n",
    "\n",
    "plt.xlabel(\"number of unique origins (stops)\")\n",
    "plt.ylabel(\"number of customers\")\n",
    "fig.xaxis.set_major_locator(MultipleLocator(5))\n",
    "fig.xaxis.set_major_formatter(ScalarFormatter())\n",
    "xticks = fig.set_xticklabels([1] + list(range(1,num_customers_per_origin.max(),5)))"
   ]
  },
  {
   "cell_type": "markdown",
   "metadata": {},
   "source": [
    "Customers' percentage per unique origins number sorted in descending order"
   ]
  },
  {
   "cell_type": "code",
   "execution_count": null,
   "metadata": {
    "scrolled": false
   },
   "outputs": [],
   "source": [
    "(num_customers_per_origin / num_customers_per_origin.sum() * 100).sort_values(ascending=False).round(2).head(20)"
   ]
  },
  {
   "cell_type": "markdown",
   "metadata": {},
   "source": [
    "---\n",
    "#### What is the distribution of trips across time ?"
   ]
  },
  {
   "cell_type": "code",
   "execution_count": null,
   "metadata": {
    "scrolled": false
   },
   "outputs": [],
   "source": [
    "# This line sets the plot size. You can ignore it.\n",
    "plt.figure(figsize=(10,6))\n",
    "\n",
    "commutes_per_hour = data[\"tap_on_time\"].groupby(data[\"tap_on_time\"].dt.components['hours']).count()\n",
    "commutes_per_hour.plot(kind=\"bar\")\n",
    "plt.xlabel(\"hour of the day\")\n",
    "plt.ylabel(\"total number of trips\")"
   ]
  },
  {
   "cell_type": "markdown",
   "metadata": {},
   "source": [
    "**Percentage values :**"
   ]
  },
  {
   "cell_type": "code",
   "execution_count": null,
   "metadata": {},
   "outputs": [],
   "source": [
    "(commutes_per_hour / commutes_per_hour.sum() * 100).sort_values(ascending=False).round(2).head(24)"
   ]
  },
  {
   "cell_type": "markdown",
   "metadata": {},
   "source": [
    "**Midday trips percentage :**"
   ]
  },
  {
   "cell_type": "code",
   "execution_count": null,
   "metadata": {},
   "outputs": [],
   "source": [
    "(commutes_per_hour[[12,13,14]].sum() / commutes_per_hour.sum() * 100).round(2)"
   ]
  },
  {
   "cell_type": "markdown",
   "metadata": {},
   "source": [
    "**Peak hour trips percentage :**"
   ]
  },
  {
   "cell_type": "markdown",
   "metadata": {},
   "source": [
    "Complete the following cell to show the percentage of trips that are done during peak hours (7h - 8h and 16h - 19h usually)."
   ]
  },
  {
   "cell_type": "code",
   "execution_count": null,
   "metadata": {},
   "outputs": [],
   "source": [
    "# ----------------------TO DO----------------------\n"
   ]
  },
  {
   "cell_type": "markdown",
   "metadata": {},
   "source": [
    "---\n",
    "#### What is the distribution of trips across dates ?"
   ]
  },
  {
   "cell_type": "markdown",
   "metadata": {},
   "source": [
    "Plot the distribution of trips across dates .\n",
    "\n",
    "If you don't find the answer to this question, **don't worry it is not mandatory** to continue the notebook."
   ]
  },
  {
   "cell_type": "code",
   "execution_count": null,
   "metadata": {},
   "outputs": [],
   "source": [
    "# ----------------------TO DO----------------------\n",
    "\n",
    "\n",
    "\n",
    "\n"
   ]
  },
  {
   "cell_type": "markdown",
   "metadata": {},
   "source": [
    "---\n",
    "#### How are trips distributed among different stops ?"
   ]
  },
  {
   "cell_type": "code",
   "execution_count": null,
   "metadata": {},
   "outputs": [],
   "source": [
    "plt.figure(figsize=(10,6))\n",
    "trips_per_stop = data[\"stop\"].groupby(data[\"stop\"]).count()\n",
    "stops_plot = trips_per_stop.plot(kind=\"bar\")\n",
    "plt.xticks([]) # REMOVE X AXIS TICKS BECAUSE THERE ARE TOO MANY STOPS AND THE TEXT OVERLAPS\n",
    "plt.xlabel(\"stop id\")\n",
    "plt.ylabel(\"number of trips\")"
   ]
  },
  {
   "cell_type": "markdown",
   "metadata": {},
   "source": [
    "**Percentage values :**"
   ]
  },
  {
   "cell_type": "code",
   "execution_count": null,
   "metadata": {},
   "outputs": [],
   "source": [
    "(trips_per_stop / trips_per_stop.sum() * 100).round(2).sort_values(ascending=False).head(20)"
   ]
  },
  {
   "cell_type": "markdown",
   "metadata": {},
   "source": [
    "#### How are trips distributed along the days of the week ?"
   ]
  },
  {
   "cell_type": "markdown",
   "metadata": {},
   "source": [
    "This plot is a little bit more tricky than the previous examples for two reasons :\n",
    "- we don't have a column that stores which day of the week corresponds to the date.\n",
    "- we might have an uneven number of complete weeks. For example, if we have 23 days of data, 23/7 = 3 weeks + 2 days. For two certain days of the week, we will have more data than for others. We will need to take that into account when computing the mean per day."
   ]
  },
  {
   "cell_type": "code",
   "execution_count": null,
   "metadata": {},
   "outputs": [],
   "source": [
    "plt.figure(figsize=(10,6))\n",
    "data['day_of_week'] = pd.Categorical(data['date'].dt.day_name(), categories=[\n",
    "                                     'Monday', 'Tuesday', 'Wednesday', 'Thursday', 'Friday', 'Saturday', 'Sunday'],\n",
    "                                     ordered=True)\n",
    "grouped_data_per_date = data[[\"day_of_week\"]].groupby(data[\"date\"]).first()\n",
    "grouped_data_per_date[\"trips_count\"] = data[\"day_of_week\"].groupby(data[\"date\"]).count()\n",
    "mean_trips_per_day = grouped_data_per_date[\"trips_count\"].groupby(grouped_data_per_date[\"day_of_week\"]).mean()\n",
    "mean_trips_per_day.plot(kind=\"bar\")\n",
    "plt.ylabel(\"average number of trips\")"
   ]
  },
  {
   "cell_type": "markdown",
   "metadata": {},
   "source": [
    "**Percentage values :** "
   ]
  },
  {
   "cell_type": "code",
   "execution_count": null,
   "metadata": {},
   "outputs": [],
   "source": [
    "(mean_trips_per_day / mean_trips_per_day.sum() * 100).sort_values(ascending=False).round(2).head(7)"
   ]
  },
  {
   "cell_type": "markdown",
   "metadata": {},
   "source": [
    "**Weekday trips percentage :**"
   ]
  },
  {
   "cell_type": "code",
   "execution_count": null,
   "metadata": {},
   "outputs": [],
   "source": [
    "(mean_trips_per_day[['Monday', 'Tuesday', 'Wednesday', 'Thursday', 'Friday']].sum() / mean_trips_per_day.sum() * 100).round(2)"
   ]
  },
  {
   "cell_type": "markdown",
   "metadata": {},
   "source": [
    "## 5. Create useful features to characterize customers' habits\n",
    "---"
   ]
  },
  {
   "attachments": {
    "image.png": {
     "image/png": "[encoded data removed]"
    }
   },
   "cell_type": "markdown",
   "metadata": {},
   "source": [
    "Now let's dive into the final goal of this workshop : identifying different groups of customers thanks to a clustering algorithm, K-Means. First let's get an intuition of how K-Means work.\n",
    "\n",
    "![image.png](attachment:image.png)\n"
   ]
  },
  {
   "cell_type": "markdown",
   "metadata": {},
   "source": [
    "K-Means performs the following steps :\n",
    "\n",
    "<img style=\"float: right; width:140px;\" src=\"step a kmeans.PNG\">\n",
    "\n",
    " **step a)**\n",
    " >We have some data points in a 2D plane. They all have x and y coordinates. \n",
    "<br/> <br/><br/> <br/><br/> <br/>\n",
    "<img style=\"float: right; width:140px;\" src=\"step b kmeans.PNG\">\n",
    "\n",
    "**step b)** \n",
    ">- We want to cluster our data into two groups so we chose K = 2.\n",
    ">- Since we chose K = 2, we place 2 random points in our 2D plane : a red cross and a blue cross. These 2 points are called **centroids**.\n",
    "<br/> <br/><br/> <br/><br/> <br/>\n",
    "<img style=\"float: right; width:140px;\" src=\"step c kmeans.PNG\">\n",
    "\n",
    "**step c)**\n",
    ">We associate each **data point** to the **closest centroid**. Data points closest to the red cross are marked as red points, and data points closest to the blue cross are marked as blue points.\n",
    "<br/> <br/><br/> <br/><br/> <br/>\n",
    "<img style=\"float: right; width:140px;\" src=\"step d kmeans.PNG\">\n",
    "\n",
    "**step d)**\n",
    ">We calculate **new positions for our centroids**. The **new red centroid** will be the **center of the red points** and the **new blue centroid** will be the **center of the blue points**.\n",
    "<br/> <br/><br/> <br/><br/> <br/>\n",
    "<img style=\"float: right; width:140px;\" src=\"step e kmeans.PNG\">\n",
    "\n",
    "**step e)**\n",
    ">We **repeat step c)**. We associate each data point to the closest centroid. **Some points will remain the same color, but others will change** of color because they are now closer to the other cross.\n",
    "<br/> <br/><br/> <br/><br/> <br/>\n",
    "<img style=\"float: right; width:140px;\" src=\"step f kmeans.PNG\">\n",
    "\n",
    "**step f)**\n",
    ">We **repeat step d)**. We calculate new positions for our centroids again.\n",
    "\n",
    "**etc. etc.**\n",
    "\n",
    "We stop this process when the centroids' positions don't change anymore : it means we reached convergence (to a local optimum not a global optimum)."
   ]
  },
  {
   "cell_type": "markdown",
   "metadata": {},
   "source": [
    "---\n",
    "### How do we apply K-Means clustering to our data ?\n",
    "In the previous K-Means drawings, two different groups are clearly identifiable : this means that the x and y axis are **useful, meaningful features** to distinguish a red point from a blue point.\n",
    "\n",
    "#### In our case, we want to cluster public transportation customers : what features could be useful and meaningful to distinguish a customer from another ?\n",
    "\n",
    "In the clustering that you will perform, you will use the following criteria to discriminate customers. For each customer, we will use :\n",
    "- ratio between his trips on weekdays and his total trips\n",
    "- ratio between his trips in peak hours (7h-8h and 16h-19h) and his weekdays trips\n",
    "- number of different stops where he validated \n",
    "- his number of trips : for example, someone has made 10 trips in one month\n",
    "- a ratio representing the interval between trips. If this ratio is close to 1, the person travels almost every day. If it's close to 0, the person doesn't travel often. For example, 0.2 means the person travels 2 days out of 10.\n",
    "\n",
    "We don't have those indicators in our data ; therefore we need to **build them from the original data we have**."
   ]
  },
  {
   "cell_type": "markdown",
   "metadata": {},
   "source": [
    "#### Add new booleans (0 or 1) columns to our original _data_ object"
   ]
  },
  {
   "cell_type": "markdown",
   "metadata": {},
   "source": [
    "The following code defines two functions that tell whether a day is a weekday and whether an hour is a peak hour.<br/>\n",
    "We build two new columns in our data thanks to these functions."
   ]
  },
  {
   "cell_type": "code",
   "execution_count": null,
   "metadata": {
    "scrolled": true
   },
   "outputs": [],
   "source": [
    "def is_weekday(day):\n",
    "    if day in ['Monday', 'Tuesday', 'Wednesday', 'Thursday', 'Friday']:\n",
    "        return 1\n",
    "    else:\n",
    "        return 0\n",
    "\n",
    "\n",
    "data[\"is_weekday\"] = data[\"day_of_week\"].apply(lambda day: is_weekday(day))\n",
    "\n",
    "def is_peak_hour(row):\n",
    "    tap_on_time = row[\"tap_on_time\"].components.hours\n",
    "    is_weekday_bool = row[\"is_weekday\"]\n",
    "    if is_weekday_bool == 1:\n",
    "        if 7 <= tap_on_time <= 8 or 16 <= tap_on_time <= 19:\n",
    "            return 1\n",
    "        else:\n",
    "            return 0\n",
    "    else:\n",
    "        return 0\n",
    "\n",
    "data[\"is_peak_hour\"] = data[[\"tap_on_time\", \"is_weekday\"]].apply(\n",
    "    lambda row: is_peak_hour(row), axis=1)"
   ]
  },
  {
   "cell_type": "code",
   "execution_count": null,
   "metadata": {},
   "outputs": [],
   "source": [
    "data"
   ]
  },
  {
   "cell_type": "markdown",
   "metadata": {},
   "source": [
    "#### Create a dataframe where we will store data for each customer\n",
    "---\n",
    "Let's create a new dataframe called _customer_data_ to store data relative to each customer. This dataframe contains **1 row per customer** compared to **the original data which had 1 row per validation**. "
   ]
  },
  {
   "cell_type": "code",
   "execution_count": null,
   "metadata": {},
   "outputs": [],
   "source": [
    "customer_data = pd.DataFrame()\n",
    "customer_data[\"customer_id\"] = data[\"customer_id\"].drop_duplicates().array\n",
    "customer_data"
   ]
  },
  {
   "cell_type": "markdown",
   "metadata": {},
   "source": [
    "Now we have a dataframe with only customers ids. Let's add the ratio between a customer's trips on weekdays and his total trips."
   ]
  },
  {
   "cell_type": "code",
   "execution_count": null,
   "metadata": {},
   "outputs": [],
   "source": [
    "customer_weekday_weekend_ratios = data[\"is_weekday\"].groupby(data[\"customer_id\"]).mean()\n",
    "customer_weekday_weekend_ratios = customer_weekday_weekend_ratios.rename(\"weekday_ratio\")\n",
    "customer_data = pd.merge(customer_data, customer_weekday_weekend_ratios, on=\"customer_id\")"
   ]
  },
  {
   "cell_type": "markdown",
   "metadata": {},
   "source": [
    "Let's add the ratio between a customer's trips in peak hours and his total trips."
   ]
  },
  {
   "cell_type": "code",
   "execution_count": null,
   "metadata": {},
   "outputs": [],
   "source": [
    "customer_peak_hour_ratios = data[\"is_peak_hour\"].groupby(data[\"customer_id\"]).sum() / data[\"is_weekday\"].groupby(data[\"customer_id\"]).sum()\n",
    "customer_peak_hour_ratios = customer_peak_hour_ratios.fillna(0)\n",
    "customer_peak_hour_ratios = customer_peak_hour_ratios.rename(\"peak_hour_ratio\")\n",
    "customer_data = pd.merge(customer_data, customer_peak_hour_ratios, on=\"customer_id\")"
   ]
  },
  {
   "cell_type": "markdown",
   "metadata": {},
   "source": [
    "Let's add a column representing customers' number of unique origins (stops)."
   ]
  },
  {
   "cell_type": "code",
   "execution_count": null,
   "metadata": {},
   "outputs": [],
   "source": [
    "unique_stops_count = data[\"stop\"].groupby(data[\"customer_id\"]).nunique()\n",
    "unique_stops_score = unique_stops_count.rename(\"unique_stops\")\n",
    "customer_data = pd.merge(customer_data, unique_stops_score, on=\"customer_id\")"
   ]
  },
  {
   "cell_type": "markdown",
   "metadata": {},
   "source": [
    "Let's add a column representing customers' number of trips."
   ]
  },
  {
   "cell_type": "code",
   "execution_count": null,
   "metadata": {},
   "outputs": [],
   "source": [
    "number_of_trips = data[\"customer_id\"].groupby(data[\"customer_id\"]).count()\n",
    "number_of_trips = number_of_trips.rename(\"num_trips\")\n",
    "customer_data = pd.merge(customer_data, number_of_trips, on=\"customer_id\")"
   ]
  },
  {
   "cell_type": "markdown",
   "metadata": {},
   "source": [
    "Let's add a ratio representing a customer's interval between his trips."
   ]
  },
  {
   "cell_type": "code",
   "execution_count": null,
   "metadata": {},
   "outputs": [],
   "source": [
    "customer_dates = data[\"date\"].groupby(data[\"customer_id\"])\n",
    "days_travelled_total_days_ratios = customer_dates.nunique() / ((customer_dates.max() - customer_dates.min()).dt.days + 1)\n",
    "days_travelled_total_days_ratios = days_travelled_total_days_ratios.rename(\"days_travelled_ratio\")\n",
    "customer_data = pd.merge(customer_data, days_travelled_total_days_ratios, on=\"customer_id\")"
   ]
  },
  {
   "cell_type": "markdown",
   "metadata": {},
   "source": [
    "Check our new data."
   ]
  },
  {
   "cell_type": "code",
   "execution_count": null,
   "metadata": {},
   "outputs": [],
   "source": [
    "customer_data"
   ]
  },
  {
   "cell_type": "markdown",
   "metadata": {},
   "source": [
    "## 6. Run a machine learning model : K-Means algorithm\n",
    "---"
   ]
  },
  {
   "cell_type": "markdown",
   "metadata": {},
   "source": [
    "### Keep customers with at least 3 trips"
   ]
  },
  {
   "cell_type": "markdown",
   "metadata": {},
   "source": [
    "Customers with only 1 or 2 trips bias our clusters because they are not representative of a general behavior. As a result we only keep customers with at least 3 trips for our clustering."
   ]
  },
  {
   "cell_type": "code",
   "execution_count": null,
   "metadata": {},
   "outputs": [],
   "source": [
    "customer_data_no_outliers = customer_data[customer_data[\"num_trips\"] >= 3]"
   ]
  },
  {
   "cell_type": "markdown",
   "metadata": {},
   "source": [
    "---\n",
    "### Standardize our data"
   ]
  },
  {
   "cell_type": "markdown",
   "metadata": {},
   "source": [
    "K-Means algorithm uses the distance between customers to cluster them. The distance between two users is defined as:<br/><br/>\n",
    "\\begin{aligned}d(\\mathbf {p} ,\\mathbf {q} )=d(\\mathbf {q} ,\\mathbf {p} )&={\\sqrt {(q_{1}-p_{1})^{2}+(q_{2}-p_{2})^{2}+\\cdots +(q_{n}-p_{n})^{2}}}\\\\[8pt]&={\\sqrt {\\sum _{i=1}^{n}(q_{i}-p_{i})^{2}}}.\\end{aligned}\n",
    "\t\n",
    "<br/>\n",
    "\n",
    "where q1, q2 ... qn are customers' features (ratios, number of trips ...).\n",
    "\n",
    "Our _customer_data_ contains ratios between 0 and 1 but also higher numbers like 12, 20, 40 describing number of trips and origins.<br/>\n",
    "These higher number will **weight much more** than ratios in the sum. As a result, we need to **standardize our data**, so that each feature has an equal weight.<br/><br/>\n",
    "Standardization formula is:\n",
    "\n",
    "<img src=\"https://latex.codecogs.com/gif.latex?newColumn&space;=&space;\\frac{Column&space;-&space;mean(Column)}{standardDeviation(Column)}\" title=\"newColumn = \\frac{Column - mean(Column)}{standardDeviation(Column)}\" />\n",
    "\n",
    "This formula implies that values below the mean will become negative values. Don't be scared to see negative values after the standardization it's totally normal.\n",
    "\n",
    "Finally, in the following code cell, **we use a more robust version of standardization for our use case**: it is the same formula where we replace the mean by the **median** and the standard deviation by the **median absolute deviation** (which is the equivalent of the standard deviation but using the median instead of the mean). Our formula is:\n",
    "\n",
    "<img src=\"https://latex.codecogs.com/gif.latex?newColumn&space;=&space;\\frac{Column&space;-&space;median(Column)}{medianAbsoluteDeviation(Column)}\" title=\"newColumn = \\frac{Column - median(Column)}{medianAbsoluteDeviation(Column)}\" />\n",
    "<br/><br/>\n",
    "This allows to reduce the impact of outliers, especially those with high numbers. For example, if we have 5 users' number of trips :\n",
    "\n",
    "|User &nbsp; &nbsp; &nbsp; &nbsp; &nbsp; &nbsp; &nbsp; &nbsp; &nbsp; &nbsp; &nbsp; &nbsp; &nbsp; &nbsp; &nbsp;|User 1 &nbsp; &nbsp; &nbsp; &nbsp; &nbsp; &nbsp; &nbsp; &nbsp; &nbsp; &nbsp; &nbsp; &nbsp; &nbsp; &nbsp; &nbsp;|User 2 &nbsp; &nbsp; &nbsp; &nbsp; &nbsp; &nbsp; &nbsp; &nbsp; &nbsp; &nbsp; &nbsp; &nbsp; &nbsp; &nbsp; &nbsp;|User 3 &nbsp; &nbsp; &nbsp; &nbsp; &nbsp; &nbsp; &nbsp; &nbsp; &nbsp; &nbsp; &nbsp; &nbsp; &nbsp; &nbsp; &nbsp;|User 4 &nbsp; &nbsp; &nbsp; &nbsp; &nbsp; &nbsp; &nbsp; &nbsp; &nbsp; &nbsp; &nbsp; &nbsp; &nbsp; &nbsp; &nbsp;|User 5 &nbsp; &nbsp; &nbsp; &nbsp; &nbsp; &nbsp; &nbsp; &nbsp; &nbsp; &nbsp; &nbsp; &nbsp; &nbsp; &nbsp; &nbsp;|\n",
    "|:--|:--|:--|:--|:--|:--|\n",
    "|Number of trips|3|5|4|5|20|\n",
    "|Mean| 7.4 : this value isn't really representative of people's behavior|\n",
    "|Median| 5 : this value is much more accurate|\n",
    "\n",
    "In our data, this phenomena is particularly true because our distributions contain much more small values than big values: we say that our distributions are **skewed right**.\n",
    "\n",
    "No more talking, let's continue !"
   ]
  },
  {
   "cell_type": "code",
   "execution_count": null,
   "metadata": {
    "scrolled": false
   },
   "outputs": [],
   "source": [
    "from scipy import stats\n",
    "\n",
    "temp = customer_data_no_outliers.loc[:, customer_data_no_outliers.columns != 'customer_id']\n",
    "\n",
    "# Filter outliers\n",
    "customer_data_no_outliers = customer_data_no_outliers[(np.abs((temp-temp.median())/temp.mad()) < 5).all(axis=1)]\n",
    "\n",
    "customer_data_no_outliers = customer_data_no_outliers.reset_index()\n",
    "\n",
    "# Remove the customer_id which isn't a feature for the kmeans_clustering\n",
    "kmeans_data = customer_data_no_outliers.loc[:, customer_data_no_outliers.columns != 'customer_id']\n",
    "\n",
    "# Standardize our data\n",
    "kmeans_data = (kmeans_data - kmeans_data.median()) / kmeans_data.mad()\n",
    "kmeans_data.info()"
   ]
  },
  {
   "cell_type": "code",
   "execution_count": null,
   "metadata": {
    "scrolled": false
   },
   "outputs": [],
   "source": [
    "kmeans_data"
   ]
  },
  {
   "cell_type": "markdown",
   "metadata": {},
   "source": [
    "### Run K-Means on our data\n",
    "---"
   ]
  },
  {
   "cell_type": "markdown",
   "metadata": {},
   "source": [
    "Guess the number of cluster and fill in the _chosen_k_."
   ]
  },
  {
   "cell_type": "code",
   "execution_count": null,
   "metadata": {},
   "outputs": [],
   "source": [
    "# ----------------------TO DO----------------------\n",
    "chosen_k = "
   ]
  },
  {
   "cell_type": "code",
   "execution_count": null,
   "metadata": {},
   "outputs": [],
   "source": [
    "from sklearn.cluster import KMeans\n",
    "\n",
    "kmeans = KMeans(n_clusters=chosen_k).fit(kmeans_data)\n",
    "\n",
    "# Assign clusters to our data\n",
    "customer_data_no_outliers.loc[:,\"cluster\"] = kmeans.labels_"
   ]
  },
  {
   "cell_type": "markdown",
   "metadata": {},
   "source": [
    "Show our data with assigned clusters."
   ]
  },
  {
   "cell_type": "code",
   "execution_count": null,
   "metadata": {},
   "outputs": [],
   "source": [
    "customer_data_no_outliers"
   ]
  },
  {
   "cell_type": "markdown",
   "metadata": {},
   "source": [
    "### Graphical representation of our results\n",
    "---"
   ]
  },
  {
   "cell_type": "markdown",
   "metadata": {},
   "source": [
    "Show the number of customers per cluster."
   ]
  },
  {
   "cell_type": "code",
   "execution_count": null,
   "metadata": {},
   "outputs": [],
   "source": [
    "plt.figure(figsize=(10,6))\n",
    "clusters_size = customer_data_no_outliers[\"cluster\"].groupby(customer_data_no_outliers[\"cluster\"]).count()\n",
    "plt.bar(list(range(1,chosen_k+1,1)),clusters_size)"
   ]
  },
  {
   "cell_type": "markdown",
   "metadata": {},
   "source": [
    "**Percentage of each cluster :**"
   ]
  },
  {
   "cell_type": "code",
   "execution_count": null,
   "metadata": {},
   "outputs": [],
   "source": [
    "(clusters_size / clusters_size.sum() * 100).round(2).head(chosen_k)"
   ]
  },
  {
   "cell_type": "markdown",
   "metadata": {},
   "source": [
    "We have 5 criteria ; so technically to visualize our clusters, we would need to plot the results in a 5 dimensional space. Since a 5-dimensional space isn't viewable and understandable by humans being, we will plot our data on two new axis which are a mixture of the different columns. \n",
    "\n",
    "Both x and y axis show a fraction of the information contained in the 5 dimensions. We show this percentage in our plot labels to determine if our plot is representative of our data or not.\n",
    "\n",
    "Now, let's visualize our clusters."
   ]
  },
  {
   "cell_type": "code",
   "execution_count": null,
   "metadata": {},
   "outputs": [],
   "source": [
    "plt.figure(figsize=(10,6))\n",
    "pca = sk.decomposition.PCA(3)\n",
    "projected = pca.fit_transform(kmeans_data)\n",
    "plt.scatter(projected[:, 0], projected[:, 1],\n",
    "            c=customer_data_no_outliers.cluster, s = 0.5)\n",
    "info_percentages = pca.explained_variance_ratio_\n",
    "plt.xlabel('component 1: ' + str((info_percentages[0] * 100).round(2)) + \" % of the info in our data\")\n",
    "plt.ylabel('component 2: ' + str((info_percentages[1] * 100).round(2)) + \" % of the info in our data\")\n",
    "plt.colorbar()"
   ]
  },
  {
   "cell_type": "markdown",
   "metadata": {},
   "source": [
    "Now in 3-D !"
   ]
  },
  {
   "cell_type": "code",
   "execution_count": null,
   "metadata": {},
   "outputs": [],
   "source": [
    "import plotly.express as px\n",
    "projected = pd.DataFrame(projected)\n",
    "projected\n",
    "fig = px.scatter_3d(projected, x=0, y=1, z=2, color=customer_data_no_outliers.cluster)\n",
    "fig.update_traces(marker=dict(size=1),\n",
    "                  selector=dict(mode='markers'))\n",
    "fig.update_layout(\n",
    "    title=\"Clusters 3D visualization\",\n",
    "    scene = dict(\n",
    "    xaxis_title='X: ' + str((info_percentages[0] * 100).round(2)) + \" % info\",\n",
    "    yaxis_title='Y: ' + str((info_percentages[1] * 100).round(2)) + \" % info\",\n",
    "    zaxis_title='Z: ' + str((info_percentages[2] * 100).round(2)) + \" % info\"),\n",
    "    font=dict(\n",
    "        size=12,\n",
    "        color=\"#7f7f7f\"\n",
    "    )\n",
    ")\n",
    "fig.show()"
   ]
  },
  {
   "cell_type": "markdown",
   "metadata": {},
   "source": [
    "## 7. Find the optimal number of clusters\n",
    "---"
   ]
  },
  {
   "cell_type": "markdown",
   "metadata": {},
   "source": [
    "### Run K-Means on 2 to 10 clusters on the data"
   ]
  },
  {
   "cell_type": "markdown",
   "metadata": {},
   "source": [
    "The **inertia of a cluster** is the sum of the distances of each point of this cluster to the centroid of this cluster.\n",
    "\n",
    "The inertia tends to decrease toward 0 as we increase k (the inertia is 0 when k = number_of_customers, because then each customer is its own cluster, and there is no distance between it and his centroid as he is the centroid). \n",
    "\n",
    "So our goal is to **choose a small value of k that still has a low inertia**.\n",
    "\n",
    "The following loop runs K-Means for 2 to 10 clusters. Each time it stores the average inertia of our clusters."
   ]
  },
  {
   "cell_type": "code",
   "execution_count": null,
   "metadata": {},
   "outputs": [],
   "source": [
    "# dissimilarity would not be defined for a single cluster, thus, minimum number of clusters should be 2\n",
    "from sklearn.metrics import silhouette_score\n",
    "inertias = []\n",
    "kmax = 10\n",
    "for k in range(2, kmax+1):\n",
    "    kmeans = KMeans(n_clusters=k).fit(kmeans_data) \n",
    "    inertias.append(kmeans.inertia_)"
   ]
  },
  {
   "cell_type": "markdown",
   "metadata": {},
   "source": [
    "---\n",
    "### Plot the result and choose the optimal K number of clusters"
   ]
  },
  {
   "cell_type": "markdown",
   "metadata": {},
   "source": [
    "Now we can visualize how the inertia evolves across time. \n",
    "\n",
    "The elbow in the curve usually represents where we start to have diminishing returns by increasing k."
   ]
  },
  {
   "cell_type": "code",
   "execution_count": null,
   "metadata": {
    "scrolled": true
   },
   "outputs": [],
   "source": [
    "plt.plot(list(range(2,kmax+1)),inertias)"
   ]
  },
  {
   "cell_type": "markdown",
   "metadata": {},
   "source": [
    "---\n",
    "### Input the chosen optimal number of clusters and see the results"
   ]
  },
  {
   "cell_type": "markdown",
   "metadata": {},
   "source": [
    "Input your chosen ideal number of clusters."
   ]
  },
  {
   "cell_type": "code",
   "execution_count": null,
   "metadata": {},
   "outputs": [],
   "source": [
    "# ----------------------TO DO----------------------\n",
    "chosen_k = "
   ]
  },
  {
   "cell_type": "code",
   "execution_count": null,
   "metadata": {},
   "outputs": [],
   "source": [
    "kmeans = KMeans(n_clusters=chosen_k).fit(kmeans_data)\n",
    "customer_data_no_outliers.loc[:,\"cluster\"] = kmeans.labels_"
   ]
  },
  {
   "cell_type": "markdown",
   "metadata": {},
   "source": [
    "---\n",
    "### Graphical representation of our results"
   ]
  },
  {
   "cell_type": "markdown",
   "metadata": {},
   "source": [
    "Show the number of customers per cluster."
   ]
  },
  {
   "cell_type": "code",
   "execution_count": null,
   "metadata": {},
   "outputs": [],
   "source": [
    "plt.figure(figsize=(10,6))\n",
    "clusters_size = customer_data_no_outliers[\"cluster\"].groupby(customer_data_no_outliers[\"cluster\"]).count()\n",
    "plt.bar(list(range(1,chosen_k+1,1)),clusters_size)"
   ]
  },
  {
   "cell_type": "markdown",
   "metadata": {},
   "source": [
    "**Percentage of each cluster :**"
   ]
  },
  {
   "cell_type": "code",
   "execution_count": null,
   "metadata": {},
   "outputs": [],
   "source": [
    "(clusters_size / clusters_size.sum() * 100).round(2).head(chosen_k)"
   ]
  },
  {
   "cell_type": "markdown",
   "metadata": {},
   "source": [
    "**Now, let's compare our clusters with boxplots.**\n",
    "\n",
    "A boxplot is a way to show a five number summary in a chart :\n",
    "\n",
    ">- The main part of the chart (the “box”) shows where the middle portion of the data is: the interquartile range. \n",
    ">- At the end of the box, you” find the first quartile (the 25% mark) and the third quartile (the 75% mark). \n",
    ">- The far left of the chart (at the end of the left “whisker”) is the minimum (the smallest number in the set) and the far right is the maximum (the largest number in the set). \n",
    ">- Finally, the median is represented by a vertical bar in the center of the box. "
   ]
  },
  {
   "cell_type": "code",
   "execution_count": null,
   "metadata": {},
   "outputs": [],
   "source": [
    "f, axes = plt.subplots(2,3,figsize=(15, 10))\n",
    "\n",
    "# plt.figure(figsize=(15,15))\n",
    "\n",
    "sns.boxplot(customer_data_no_outliers[\"cluster\"],customer_data_no_outliers[\"num_trips\"], showfliers = False,ax=axes[0,0])\n",
    "sns.boxplot(customer_data_no_outliers[\"cluster\"],customer_data_no_outliers[\"unique_stops\"], showfliers = False,ax=axes[0,1])\n",
    "sns.boxplot(customer_data_no_outliers[\"cluster\"],customer_data_no_outliers[\"weekday_ratio\"], showfliers = False,ax=axes[0,2])\n",
    "sns.boxplot(customer_data_no_outliers[\"cluster\"],customer_data_no_outliers[\"peak_hour_ratio\"], showfliers = False,ax=axes[1,0])\n",
    "sns.boxplot(customer_data_no_outliers[\"cluster\"],customer_data_no_outliers[\"days_travelled_ratio\"], showfliers = False,ax=axes[1,1])\n",
    "\n",
    "plt.show()"
   ]
  },
  {
   "cell_type": "markdown",
   "metadata": {},
   "source": [
    "Show distributions for each cluster."
   ]
  },
  {
   "cell_type": "code",
   "execution_count": null,
   "metadata": {},
   "outputs": [],
   "source": [
    "fig = plt.figure(figsize=(20,20))\n",
    "num_metrics = 4\n",
    "\n",
    "for k in range(0,chosen_k):\n",
    "    \n",
    "    k_data = data.loc[data.customer_id.isin(customer_data_no_outliers.loc[customer_data_no_outliers.cluster == k,\"customer_id\"].values),:]\n",
    "    plot1 = plt.subplot(num_metrics,chosen_k,k+1)\n",
    "    trips_per_day = k_data[\"day_of_week\"].groupby(k_data[\"day_of_week\"]).count()\n",
    "    trips_per_day.plot(kind=\"bar\")\n",
    "    plot1.set(ylabel = \"number of customers\")\n",
    "    \n",
    "    plot2 = plt.subplot(num_metrics,chosen_k,k+1+chosen_k)\n",
    "    trips_per_time = k_data[\"tap_on_time\"].groupby(k_data[\"tap_on_time\"].dt.components['hours']).count()\n",
    "    trips_per_time = trips_per_time\n",
    "    trips_per_time.plot(kind=\"bar\")\n",
    "    plot2.set(ylabel = \"number of customers\")\n",
    "\n",
    "    plot3 = plt.subplot(num_metrics,chosen_k,k+1+2*chosen_k)\n",
    "    plot3.set_yscale('log')\n",
    "    num_trips_per_customer = k_data[\"customer_id\"].groupby(k_data[\"customer_id\"]).count()\n",
    "    num_cust_per_trips_num = num_trips_per_customer.groupby(num_trips_per_customer.values).count()\n",
    "    num_cust_per_trips_num = num_cust_per_trips_num.drop(labels=0)\n",
    "    num_cust_per_trips_num.plot(kind=\"bar\")\n",
    "    plot3.set(xlabel=\"number_of_trips\")\n",
    "    plot3.set(ylabel = \"log scale : number of customers\")\n",
    "    plot3.get_xaxis().set_major_locator(MultipleLocator(10))\n",
    "    plot3.get_xaxis().set_major_formatter(ScalarFormatter())\n",
    "    plot3.set_xticklabels([1] + list(range(1,num_cust_per_trips_num.max()+1,10)))\n",
    "    \n",
    "    plot4 = plt.subplot(num_metrics,chosen_k,k+1+3*chosen_k)\n",
    "    plot4.set_yscale('log')\n",
    "    num_origins_per_customer = k_data[\"stop\"].groupby(k_data[\"customer_id\"]).nunique()\n",
    "    num_cust_per_ori_num = num_origins_per_customer.groupby(num_origins_per_customer.values).count()\n",
    "    num_cust_per_ori_num = num_cust_per_ori_num.drop(labels=0)\n",
    "    num_cust_per_ori_num.plot(kind=\"bar\")\n",
    "    plot4.set(xlabel=\"number_of_origins\")\n",
    "    plot4.set(ylabel = \"log scale : number of customers\")\n",
    "    plot4.get_xaxis().set_major_locator(MultipleLocator(10))\n",
    "    plot4.get_xaxis().set_major_formatter(ScalarFormatter())\n",
    "    plot4.set_xticklabels([1] + list(range(1,num_cust_per_ori_num.max()+1,10)))\n",
    "\n",
    "plt.show()"
   ]
  },
  {
   "cell_type": "markdown",
   "metadata": {},
   "source": [
    "Visualize our clusters in a 2-dimensional space."
   ]
  },
  {
   "cell_type": "code",
   "execution_count": null,
   "metadata": {},
   "outputs": [],
   "source": [
    "plt.figure(figsize=(10,6))\n",
    "pca = sk.decomposition.PCA(3)\n",
    "projected = pca.fit_transform(kmeans_data)\n",
    "plt.scatter(projected[:, 0], projected[:, 1],\n",
    "            c=customer_data_no_outliers.cluster, s = 0.5)\n",
    "info_percentages = pca.explained_variance_ratio_\n",
    "plt.xlabel('component 1: ' + str((info_percentages[0] * 100).round(2)) + \" % of the info in our data\")\n",
    "plt.ylabel('component 2: ' + str((info_percentages[1] * 100).round(2)) + \" % of the info in our data\")\n",
    "plt.colorbar()"
   ]
  },
  {
   "cell_type": "markdown",
   "metadata": {},
   "source": [
    "Now in 3-D !"
   ]
  },
  {
   "cell_type": "code",
   "execution_count": null,
   "metadata": {},
   "outputs": [],
   "source": [
    "import plotly.express as px\n",
    "projected = pd.DataFrame(projected)\n",
    "projected\n",
    "fig = px.scatter_3d(projected, x=0, y=1, z=2, color=customer_data_no_outliers.cluster)\n",
    "fig.update_traces(marker=dict(size=1),\n",
    "                  selector=dict(mode='markers'))\n",
    "fig.update_layout(\n",
    "    title=\"Clusters 3D visualization\",\n",
    "    scene = dict(\n",
    "    xaxis_title='X: ' + str((info_percentages[0] * 100).round(2)) + \" % info\",\n",
    "    yaxis_title='Y: ' + str((info_percentages[1] * 100).round(2)) + \" % info\",\n",
    "    zaxis_title='Z: ' + str((info_percentages[2] * 100).round(2)) + \" % info\"),\n",
    "    font=dict(\n",
    "        size=12,\n",
    "        color=\"#7f7f7f\"\n",
    "    )\n",
    ")\n",
    "fig.show()"
   ]
  }
 ],
 "metadata": {
  "anaconda-cloud": {},
  "kernelspec": {
   "display_name": "Python 3",
   "language": "python",
   "name": "python3"
  },
  "language_info": {
   "codemirror_mode": {
    "name": "ipython",
    "version": 3
   },
   "file_extension": ".py",
   "mimetype": "text/x-python",
   "name": "python",
   "nbconvert_exporter": "python",
   "pygments_lexer": "ipython3",
   "version": "3.8.1"
  }
 },
 "nbformat": 4,
 "nbformat_minor": 4
}
